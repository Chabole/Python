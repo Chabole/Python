{
 "cells": [
  {
   "cell_type": "code",
   "execution_count": 64,
   "id": "f333950e-fca8-49ff-b7f6-112950772c47",
   "metadata": {},
   "outputs": [],
   "source": [
    "from sympy import *\n",
    "from sympy.abc import *"
   ]
  },
  {
   "cell_type": "code",
   "execution_count": 81,
   "id": "fb0d9be9-dbdb-47f2-8e0d-bfe73ec79670",
   "metadata": {},
   "outputs": [],
   "source": [
    "ay, dy, q, F, L = symbols('A_{y} D_{y} q_{0} F L')\n",
    "\n",
    "Dy = (2*q*L + 3*F)/4 \n",
    "Ay = (2*q*L) + F - Dy"
   ]
  },
  {
   "cell_type": "code",
   "execution_count": 82,
   "id": "45a27303-10ff-416a-a529-ff29678319f9",
   "metadata": {},
   "outputs": [],
   "source": [
    "m1 = -Ay*x + 2*q*L*(x-L)\n",
    "m2 = m1 + F*(x-3*L)\n",
    "m3 = m2 - Dy*(x-4*L)\n",
    "\n",
    "U1 = integrate(m1, (x, 0, 2*L))\n",
    "U2 = integrate(m2, (x, 2*L, 3*L))\n",
    "U3 = integrate(m3, (x, 3*L, 4*L))"
   ]
  },
  {
   "cell_type": "code",
   "execution_count": 83,
   "id": "3ea40a23-70fe-46eb-aaba-97bc9f36a57f",
   "metadata": {},
   "outputs": [
    {
     "data": {
      "text/latex": [
       "$\\displaystyle \\frac{- 4 L^{3} q_{0} + 4 L^{2} \\left(- \\frac{F}{8} + \\frac{L q_{0}}{4}\\right) + 5 L^{2} \\left(\\frac{3 F}{8} + \\frac{L q_{0}}{4}\\right) + L \\left(- 3 F L - 2 L^{2} q_{0}\\right)}{2 E I}$"
      ],
      "text/plain": [
       "(-4*L**3*q_{0} + 4*L**2*(-F/8 + L*q_{0}/4) + 5*L**2*(3*F/8 + L*q_{0}/4) + L*(-3*F*L - 2*L**2*q_{0}))/(2*E*I)"
      ]
     },
     "execution_count": 83,
     "metadata": {},
     "output_type": "execute_result"
    }
   ],
   "source": [
    "Ut = (1/(2*E*I))*(U1 + U2 + U3)\n",
    "Ut"
   ]
  },
  {
   "cell_type": "code",
   "execution_count": 89,
   "id": "95efad1d-0b6c-441f-b374-9a41ee8ba3ef",
   "metadata": {},
   "outputs": [
    {
     "data": {
      "text/latex": [
       "$\\displaystyle \\left. \\frac{\\partial}{\\partial F} \\frac{- 4 L^{3} q_{0} + 4 L^{2} \\left(- \\frac{F}{8} + \\frac{L q_{0}}{4}\\right) + 5 L^{2} \\left(\\frac{3 F}{8} + \\frac{L q_{0}}{4}\\right) + L \\left(- 3 F L - 2 L^{2} q_{0}\\right)}{2 E I} \\right|_{\\substack{ F=0 }}$"
      ],
      "text/plain": [
       "Subs(Derivative((-4*L**3*q_{0} + 4*L**2*(-F/8 + L*q_{0}/4) + 5*L**2*(3*F/8 + L*q_{0}/4) + L*(-3*F*L - 2*L**2*q_{0}))/(2*E*I), F), F, 0)"
      ]
     },
     "execution_count": 89,
     "metadata": {},
     "output_type": "execute_result"
    }
   ],
   "source": [
    "deriv = Derivative(Ut, F).subs(F, 0)\n",
    "deriv"
   ]
  },
  {
   "cell_type": "code",
   "execution_count": 90,
   "id": "d57c0a0f-191c-4bbc-8b1b-fe9a4c38161d",
   "metadata": {},
   "outputs": [
    {
     "data": {
      "text/latex": [
       "$\\displaystyle - \\frac{13 L^{2}}{16 E I}$"
      ],
      "text/plain": [
       "-13*L**2/(16*E*I)"
      ]
     },
     "execution_count": 90,
     "metadata": {},
     "output_type": "execute_result"
    }
   ],
   "source": [
    "deriv.doit()"
   ]
  },
  {
   "cell_type": "code",
   "execution_count": null,
   "id": "fee0c92e-5ab0-4921-a4f7-434d87696612",
   "metadata": {},
   "outputs": [],
   "source": []
  }
 ],
 "metadata": {
  "kernelspec": {
   "display_name": "Python 3",
   "language": "python",
   "name": "python3"
  },
  "language_info": {
   "codemirror_mode": {
    "name": "ipython",
    "version": 3
   },
   "file_extension": ".py",
   "mimetype": "text/x-python",
   "name": "python",
   "nbconvert_exporter": "python",
   "pygments_lexer": "ipython3",
   "version": "3.8.8"
  }
 },
 "nbformat": 4,
 "nbformat_minor": 5
}
