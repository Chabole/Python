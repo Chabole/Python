{
 "cells": [
  {
   "cell_type": "markdown",
   "id": "f4598a8a-aead-4045-8600-05b7c7018b91",
   "metadata": {},
   "source": [
    "# Processo trainee Equipe ZebraAerodesign - Desempenho"
   ]
  },
  {
   "cell_type": "markdown",
   "id": "9d972e11-4b02-41b7-9e58-c168148f628d",
   "metadata": {},
   "source": [
    "- GitHub da equipe zebra: https://github.com/Zebra-Aerodesign\n",
    "\n",
    "## Baixando e instalando anaconda navigator\n",
    "\n",
    "1. Tutorial para baixar anaconda navigator https://www.youtube.com/watch?v=_eK0z5QbpKA\n",
    "    1. Link baixar o anaconda navigator https://www.anaconda.com/\n",
    "\n",
    "## Configurando o git e o github\n",
    "\n",
    "1. Baixe o git em https://git-scm.com/\n",
    "2. Crie uma conta no Github em https://github.com\n",
    "3. Baixe o Github desktop em https://github.com\n",
    "4. Dúvidas sobre Github assista a playlist do prof. Gustavo Guanabara \n",
    "https://shorturl.at/rNSZ2\n",
    "\n",
    "\n",
    "## Configurando a biblioteca zebralib\n",
    "\n",
    "1. https://github.com/Zebra-Aerodesign/ZebraLib\n",
    "2. Clone o repositório do Github no seu computador em C:\\Users\\\\....\\Anaconda3\n",
    "3. Vá em C:\\Users\\arthu\\Anaconda3\\Lib\\site-packages\n",
    "4. Crie um arquivo no bloco de notas chamado ZebraLib.pth e salve na pasta site-packages\n",
    "5. Dentro do arquivo coloque o local onde está a biblioteca exemplo: C:\\Users\\arthu\\Anaconda3\\ZebraLib\n",
    "6. Sucesso! Agora é só importar a biblioteca no seu código e se divertir ... :)\n",
    "\n",
    "# Entender mais sobre programação básica e avançada\n",
    "\n",
    "## Canal curso em video prof. gustavo guanabara link das playlist\n",
    "\n",
    "1. Curso de algorimos e lógica de programação: https://youtu.be/8mei6uVttho \n",
    "2. Programação em python mundo 1: https://youtu.be/S9uPNppGsGo\n",
    "3. Programação em python mundo 2: https://youtu.be/nJkVHusJp6E\n",
    "4. Programação em python mundo 3: https://youtube.com/playlist?list=PLHz_AreHm4dksnH2jVTIVNviIMBVYyFnH\n",
    "5. Programação em python exercícios: https://youtube.com/playlist?list=PLHz_AreHm4dm6wYOIW20Nyg12TAjmMGT-\n",
    "6. Conceitos de Prog. orientada a objeto (assistir aulas em vermelho): https://youtu.be/KlIL63MeyMY\n",
    "\n",
    "\n",
    "## Onde encontrar ajuda com exemplos\n",
    "\n",
    "1. Aprender sobre *numpy*: https://numpy.org/doc/stable/reference/routines.html\n",
    "2. Aprender a plotar gráfico com *matplotlib*: https://matplotlib.org/stable/gallery/index.html\n",
    "3. Aprender computação ciêntifica com *scipy*: https://docs.scipy.org/doc/scipy/reference/index.html "
   ]
  },
  {
   "cell_type": "code",
   "execution_count": null,
   "id": "079838a7-62ca-4f40-b33c-18252a674608",
   "metadata": {},
   "outputs": [],
   "source": []
  },
  {
   "cell_type": "code",
   "execution_count": null,
   "id": "ad4ba902-6c3f-44fa-bd1c-0a713e04384c",
   "metadata": {},
   "outputs": [],
   "source": []
  },
  {
   "cell_type": "markdown",
   "id": "37924758-1e5a-473b-af21-d07a3d7ba1cd",
   "metadata": {},
   "source": [
    "## Decolagem "
   ]
  },
  {
   "cell_type": "code",
   "execution_count": null,
   "id": "976c064b-11db-4d21-8afc-7babdff8bd1d",
   "metadata": {},
   "outputs": [],
   "source": []
  },
  {
   "cell_type": "markdown",
   "id": "37e7fe85-ec98-48d8-93d6-cbe5f141ef84",
   "metadata": {},
   "source": [
    "## Manobra "
   ]
  },
  {
   "cell_type": "code",
   "execution_count": null,
   "id": "b1e95866-8972-4365-a7b0-a69bc1707768",
   "metadata": {},
   "outputs": [],
   "source": []
  }
 ],
 "metadata": {
  "kernelspec": {
   "display_name": "Python 3",
   "language": "python",
   "name": "python3"
  },
  "language_info": {
   "codemirror_mode": {
    "name": "ipython",
    "version": 3
   },
   "file_extension": ".py",
   "mimetype": "text/x-python",
   "name": "python",
   "nbconvert_exporter": "python",
   "pygments_lexer": "ipython3",
   "version": "3.8.8"
  }
 },
 "nbformat": 4,
 "nbformat_minor": 5
}
