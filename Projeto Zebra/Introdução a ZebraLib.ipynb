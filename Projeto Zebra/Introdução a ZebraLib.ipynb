{
 "cells": [
  {
   "cell_type": "markdown",
   "id": "f4598a8a-aead-4045-8600-05b7c7018b91",
   "metadata": {},
   "source": [
    "# Resolução: Processo trainee Equipe ZebraAerodesign - Desempenho"
   ]
  },
  {
   "cell_type": "markdown",
   "id": "3734eb2a-6c8c-4ad6-a53c-941178f4fe00",
   "metadata": {},
   "source": [
    "# Orientações básicas"
   ]
  },
  {
   "cell_type": "markdown",
   "id": "9d972e11-4b02-41b7-9e58-c168148f628d",
   "metadata": {},
   "source": [
    "- GitHub da equipe zebra: https://github.com/Zebra-Aerodesign\n",
    "\n",
    "## Baixando e instalando anaconda navigator\n",
    "\n",
    "1. Tutorial para baixar anaconda navigator https://www.youtube.com/watch?v=_eK0z5QbpKA\n",
    "    1. Link baixar o anaconda navigator https://www.anaconda.com/\n",
    "\n",
    "## Configurando o git e o github\n",
    "\n",
    "1. Baixe o git em https://git-scm.com/\n",
    "2. Crie uma conta no Github em https://github.com\n",
    "3. Baixe o Github desktop em https://github.com\n",
    "4. Dúvidas sobre Github assista a playlist do prof. Gustavo Guanabara \n",
    "https://shorturl.at/rNSZ2\n",
    "\n",
    "\n",
    "## Configurando a biblioteca zebralib\n",
    "\n",
    "1. https://github.com/Zebra-Aerodesign/ZebraLib\n",
    "2. Clone o repositório do Github no seu computador em C:\\Users\\\\....\\Anaconda3\n",
    "3. Vá em C:\\Users\\arthu\\Anaconda3\\Lib\\site-packages\n",
    "4. Crie um arquivo no bloco de notas chamado ZebraLib.pth e salve na pasta site-packages\n",
    "5. Dentro do arquivo coloque o local onde está a biblioteca exemplo: C:\\Users\\arthu\\Anaconda3\\ZebraLib\n",
    "6. Sucesso! Agora é só importar a biblioteca no seu código e se divertir ... :)\n",
    "\n",
    "# Entender mais sobre programação básica e avançada\n",
    "\n",
    "## Básica - Canal curso em video prof. gustavo guanabara link das playlist\n",
    "\n",
    "1. Curso de algorimos e lógica de programação: https://youtu.be/8mei6uVttho \n",
    "2. Programação em python mundo 1: https://youtu.be/S9uPNppGsGo\n",
    "3. Programação em python mundo 2: https://youtu.be/nJkVHusJp6E\n",
    "4. Programação em python mundo 3: https://youtube.com/playlist?list=PLHz_AreHm4dksnH2jVTIVNviIMBVYyFnH\n",
    "5. Programação em python exercícios: https://youtube.com/playlist?list=PLHz_AreHm4dm6wYOIW20Nyg12TAjmMGT-\n",
    "6. Conceitos de Prog. orientada a objeto (assistir aulas em vermelho): https://youtu.be/KlIL63MeyMY\n",
    "\n",
    "## Avançada - link das playlist\n",
    "\n",
    "1. Jamal UFTPR - Cálculo numérico: https://www.youtube.com/watch?v=Ow9Hx04qnaI&list=PLleETO-tMJixSTImpC54tjToBzw38NDLr\n",
    "2. APMonitor - Computação para engenheiros: https://www.youtube.com/watch?v=gY0sEokk2h0&list=PLLBUgWXdTBDi-E--rwBujaNkTejLNI6ap\n",
    "3. APMonitor site - Tutoriais e exercícios: http://apmonitor.com/che263/index.php/Main/PythonIntroduction\n",
    "\n",
    "## Onde encontrar ajuda com exemplos\n",
    "\n",
    "1. Aprender sobre *numpy*: https://numpy.org/doc/stable/reference/routines.html\n",
    "2. Aprender a plotar gráfico com *matplotlib*: https://matplotlib.org/stable/gallery/index.html\n",
    "3. Aprender computação ciêntifica com *scipy*: https://docs.scipy.org/doc/scipy/reference/index.html "
   ]
  },
  {
   "cell_type": "markdown",
   "id": "0f697cf9-4841-42eb-8472-c353e2556974",
   "metadata": {},
   "source": [
    "# Glossário"
   ]
  },
  {
   "cell_type": "markdown",
   "id": "c42ce857-47ad-41b9-a816-6c556cc60a52",
   "metadata": {},
   "source": [
    "1. **$b$** :                       Envergadura [$m$]\n",
    "2. **$S$** :                       Área da asa [$m^2$]\n",
    "3. **$Af$** :                      Afilamento\n",
    "15. **$AR$** :                     Alongamento ou aspect ratio (AR) na asa retangular\n",
    "4. **$C_L$** :                     Coeficiente de sustentação qualquer\n",
    "4. **$CL_n$** :                    Coeficiente de sustentação com ângulo de incidência ou natural\n",
    "5. **$C_{Lmax}$** :                Coeficiente de sustentação máximo da aeronave, Cl de estol\n",
    "5. **$C_{LLO}$** :                 Coeficiente de sustentação para garantir a decolagem com o menor comprimento de pista possível\n",
    "20. **$C_{D0}$** :                 Coeficiente de arrasto parasita (coef zero-lift)\n",
    "20. **$C_{Di}$** :                 Coeficiente de arrasto induzido (coef due-lift) --> $K.C_{Lmax}^2$\n",
    "21. **$C_D$** :                    Coeficiente de arrasto total --> $C_{D} = C_{D0} + K.C_{Lmax}^2$\n",
    "6. **$S_{wet}$** :                 Área molhada do avião [$m^2$]\n",
    "7. **$c$** :                       Corda média [$m$]\n",
    "8. **$N_{max}$** :                 Fator de carga máximo estrutural do Diagrama Vn != turn_Nmax\n",
    "8. **$\\phi$** :                    Fator de efeito solo\n",
    "8. **$\\rho$** :                    Densidade do ar local [$kg/m^3$]\n",
    "8. **$D$** :                       Força de arrasto [$N$]\n",
    "8. **$L$** :                       Força de sustentação [$N$]\n",
    "8. **$T$** ou **$T_d$** :          Tração disponível [$N$]\n",
    "8. **$T_r$**  :                    Tração requerida [$N$]\n",
    "9. **$h$** :                       Altura da asa em relação ao chão [$m$]\n",
    "9. **$\\mu$** :                     Coefiente de atrito com o solo\n",
    "10. **$mv$** :                     Massa vazia da aeroave [$Kg$]\n",
    "11. **$a_o$** :                    Ângulo de incidência da asa [Graus]\n",
    "12. **$a_{max}$** :                Ângulo maximo da asa (ângulo de estol) [Graus]\n",
    "16. **$e_{0}$** :                  Fator eficiênte de Oswald\n",
    "17. **$K$** :                      Constante de proporcionalidade\n",
    "18. **$MTOW$** :                   Massa total de decolagem (Maximum Take-Off Weight)[$N$]\n",
    "18. **$M$** :                      Massa total da aeronave [$kg$]\n",
    "19. **$W$** :                      Peso total do avião     [$N$]\n",
    "22. **$V_{stall}$** :              Velocidade mínima em que a força de sustentação consegue equilibrar o peso da aeronave\n",
    "23. **$V_{lo}$** :                 Velocidade de decolagem (lift-off) [ 20% maior que $V_{stall}$ ] \n",
    "24. **$V_{l}$** :                  Velocidade de aproximação/pouso (landing) [ 30% maior que $V_{stall}$ ] \n",
    "24. **$S_{lo}$** :                 Distância de pista necessária para a decolagem [$m$]\n",
    "24. **$S_{l}$** :                  Distância de pista necessária para o pouso [$m$]"
   ]
  },
  {
   "cell_type": "markdown",
   "id": "d622ee39",
   "metadata": {},
   "source": [
    "# Importando e instânciando a zebralib"
   ]
  },
  {
   "cell_type": "code",
   "execution_count": null,
   "id": "46e043dd",
   "metadata": {},
   "outputs": [],
   "source": [
    "import ZebraLib as zb\n",
    "import numpy as np\n",
    "import matplotlib.pyplot as plt\n",
    "\n",
    "avião = zb.Airplane('Aviãozinho', Swet=5)"
   ]
  },
  {
   "cell_type": "markdown",
   "id": "35b72b70",
   "metadata": {},
   "source": [
    "# Motor\n",
    "## Tração e Potências"
   ]
  },
  {
   "cell_type": "code",
   "execution_count": 8,
   "id": "94770fcf",
   "metadata": {},
   "outputs": [
    {
     "data": {
      "text/plain": [
       "<matplotlib.legend.Legend at 0x281c835b760>"
      ]
     },
     "execution_count": 8,
     "metadata": {},
     "output_type": "execute_result"
    },
    {
     "data": {
      "image/png": "[encoded data removed]",
      "text/plain": [
       "<Figure size 432x273.6 with 1 Axes>"
      ]
     },
     "metadata": {
      "needs_background": "light"
     },
     "output_type": "display_data"
    }
   ],
   "source": [
    "#Vetor de velocidades\n",
    "V = np.linspace(0.1, 38)\n",
    "\n",
    "#Calculando as trações\n",
    "Trac_disp = avião.trac_Available(V)\n",
    "Trac_req = avião.trac_Req(V)\n",
    "\n",
    "#Criando o objeto ax (gráfico) \n",
    "fig, (ax) = plt.subplots(figsize=(6,3.8))\n",
    "\n",
    "#Subplot 1\n",
    "ax.set(title='Trações disponível e requerida', xlabel='Velocidade (m/s)', ylabel='Trações (N)')\n",
    "ax.plot(V, Trac_disp, label='Tração disponível')\n",
    "ax.plot(V, Trac_req, label='Tração requerida')\n",
    "\n",
    "ax.set_ylim(5,60)\n",
    "ax.legend()"
   ]
  },
  {
   "cell_type": "code",
   "execution_count": 10,
   "id": "f2e2c6ab",
   "metadata": {},
   "outputs": [
    {
     "data": {
      "text/plain": [
       "<matplotlib.legend.Legend at 0x281c845d730>"
      ]
     },
     "execution_count": 10,
     "metadata": {},
     "output_type": "execute_result"
    },
    {
     "data": {
      "image/png": "[encoded data removed]",
      "text/plain": [
       "<Figure size 432x273.6 with 1 Axes>"
      ]
     },
     "metadata": {
      "needs_background": "light"
     },
     "output_type": "display_data"
    }
   ],
   "source": [
    "#Calculando as Potências\n",
    "Pot_disp = avião.pot_Available(V)\n",
    "Pot_req = avião.pot_Req(V)\n",
    "\n",
    "fig, (ax2) = plt.subplots(figsize=(6,3.8))\n",
    "\n",
    "#Subplot 2\n",
    "ax2.set(title='Potências disponível e requerida', xlabel='Velocidade (m/s)', ylabel='Potência (W)')\n",
    "ax2.plot(V, Pot_disp, label='Potência disponível')\n",
    "ax2.plot(V, Pot_req, label='Potência requerida')\n",
    "\n",
    "ax2.set_ylim(0,1000)\n",
    "ax2.legend()"
   ]
  },
  {
   "cell_type": "markdown",
   "id": "031755ca",
   "metadata": {},
   "source": [
    "# Forças e coeficientes aerodinâmicas\n",
    "## Sustentação "
   ]
  },
  {
   "cell_type": "code",
   "execution_count": null,
   "id": "7185492d",
   "metadata": {},
   "outputs": [],
   "source": []
  },
  {
   "cell_type": "markdown",
   "id": "9e0164a1",
   "metadata": {},
   "source": [
    "## Arrasto "
   ]
  },
  {
   "cell_type": "code",
   "execution_count": null,
   "id": "66a26cbd",
   "metadata": {},
   "outputs": [],
   "source": []
  },
  {
   "cell_type": "markdown",
   "id": "e0ae9525",
   "metadata": {},
   "source": [
    "# Razão de subida e decolagem"
   ]
  },
  {
   "cell_type": "markdown",
   "id": "16b33e11",
   "metadata": {},
   "source": [
    "## Dinâmica "
   ]
  },
  {
   "cell_type": "code",
   "execution_count": null,
   "id": "13048a56",
   "metadata": {},
   "outputs": [],
   "source": []
  },
  {
   "cell_type": "markdown",
   "id": "80d09a71",
   "metadata": {},
   "source": [
    "## Cinemática"
   ]
  },
  {
   "cell_type": "code",
   "execution_count": null,
   "id": "56916ad7",
   "metadata": {},
   "outputs": [],
   "source": []
  },
  {
   "cell_type": "markdown",
   "id": "2ae657a4",
   "metadata": {},
   "source": [
    "# Manobra\n",
    "## Fatores de carga"
   ]
  },
  {
   "cell_type": "code",
   "execution_count": null,
   "id": "e4d29065",
   "metadata": {},
   "outputs": [],
   "source": []
  },
  {
   "cell_type": "markdown",
   "id": "72ef5078",
   "metadata": {},
   "source": [
    "## Inclinação das asas"
   ]
  },
  {
   "cell_type": "code",
   "execution_count": null,
   "id": "e42c1b93",
   "metadata": {},
   "outputs": [],
   "source": []
  },
  {
   "cell_type": "markdown",
   "id": "4d300fe5",
   "metadata": {},
   "source": [
    "## Raio de curva"
   ]
  },
  {
   "cell_type": "code",
   "execution_count": null,
   "id": "3ec7178f",
   "metadata": {},
   "outputs": [],
   "source": []
  },
  {
   "cell_type": "markdown",
   "id": "0231f7c9",
   "metadata": {},
   "source": [
    "## Razão de curva"
   ]
  },
  {
   "cell_type": "markdown",
   "id": "c60b21b3",
   "metadata": {},
   "source": [
    "# Razão de descida e pouso"
   ]
  },
  {
   "cell_type": "markdown",
   "id": "a0a0c6e1",
   "metadata": {},
   "source": [
    "## Dinâmica"
   ]
  },
  {
   "cell_type": "code",
   "execution_count": null,
   "id": "afafc661",
   "metadata": {},
   "outputs": [],
   "source": []
  },
  {
   "cell_type": "markdown",
   "id": "e276cede",
   "metadata": {},
   "source": [
    "## Cinemático"
   ]
  },
  {
   "cell_type": "code",
   "execution_count": null,
   "id": "7f8d4f5c",
   "metadata": {},
   "outputs": [],
   "source": []
  },
  {
   "cell_type": "markdown",
   "id": "9e618a9e",
   "metadata": {},
   "source": []
  }
 ],
 "metadata": {
  "kernelspec": {
   "display_name": "Python 3 (ipykernel)",
   "language": "python",
   "name": "python3"
  },
  "language_info": {
   "codemirror_mode": {
    "name": "ipython",
    "version": 3
   },
   "file_extension": ".py",
   "mimetype": "text/x-python",
   "name": "python",
   "nbconvert_exporter": "python",
   "pygments_lexer": "ipython3",
   "version": "3.8.8"
  }
 },
 "nbformat": 4,
 "nbformat_minor": 5
}
