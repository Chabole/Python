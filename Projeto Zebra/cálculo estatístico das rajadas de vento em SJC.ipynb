{
 "cells": [
  {
   "cell_type": "code",
   "execution_count": 48,
   "metadata": {},
   "outputs": [
    {
     "name": "stdout",
     "output_type": "stream",
     "text": [
      "Using matplotlib backend: Qt5Agg\n"
     ]
    }
   ],
   "source": [
    "%matplotlib\n",
    "from random import *\n",
    "import scipy.stats as st\n",
    "from scipy import *\n",
    "from scipy import integrate\n",
    "from scipy.integrate import quad \n",
    "import matplotlib.pyplot as plt\n",
    "import numpy as np"
   ]
  },
  {
   "cell_type": "code",
   "execution_count": 49,
   "metadata": {},
   "outputs": [],
   "source": [
    "#análise estatistica\n",
    "\n",
    "rajada=sort(array([3.7,4.9,6.0,7.2,5.8,6.5,4.9,4.1,3.9,5.1,4.7,4.1,4.1,4.2,3.2,3.4,4.4,2.7,3.3,3.8,4.2,3.6,4.7]))\n",
    "\n",
    "numbers=np.linspace(0,20,20)\n",
    "media_rajada=mean(rajada)\n",
    "desvio_rajada=sqrt(var(rajada))\n",
    "velocidades=array([media_rajada-desvio_rajada,media_rajada,media_rajada+desvio_rajada])"
   ]
  },
  {
   "cell_type": "markdown",
   "metadata": {},
   "source": [
    "Os dados obtidos foram medidos com anemômetro no Aero CT em SJC no periodo da tarde quando foram verificadas as maiores rajadas durante o periodo da competição. "
   ]
  },
  {
   "cell_type": "code",
   "execution_count": 53,
   "metadata": {},
   "outputs": [
    {
     "name": "stdout",
     "output_type": "stream",
     "text": [
      "Rajadas de vento: 95% de probabilidade de estar entre  2.72 m/s e  6.23 m/s\n",
      "Valores medidos em SJC, em 25 de Outubro de 2019 as 16:44\n"
     ]
    }
   ],
   "source": [
    "def normal(X):\n",
    "    fT = (1/(sqrt(2*var(X)*pi))*exp(-0.5*((X-mean(X))/(sqrt(var(X))))**2))\n",
    "    return fT\n",
    "\n",
    "def normal_2(X):\n",
    "    fT = (1/(sqrt(2*var(rajada)*pi))*exp(-0.5*((X-mean(rajada))/(sqrt(var(rajada))))**2))\n",
    "    return fT\n",
    "\n",
    "\n",
    "\n",
    "x= np.linspace(1,8,100, endpoint=True)\n",
    "fx=normal_2(x)\n",
    "fT=normal(rajada)\n",
    "\n",
    "\n",
    "\n",
    "i=2.72\n",
    "a=i\n",
    "area=0\n",
    "vento=[]\n",
    "while area<=0.95:\n",
    "    i=i+0.01\n",
    "    vento.append(i)\n",
    "    area, err = quad(normal_2,0,max(vento))\n",
    "\n",
    "x2=vento[0:len(vento)]  \n",
    "fx2=normal_2(x2)\n",
    "plt.fill_between(x2,fx2,color='deepskyblue', alpha=.50,label='95% da área total')\n",
    "plt.plot(x,fx, color=\"blue\", linewidth=1.2, linestyle=\"-\",label='curva normal estatística')\n",
    "plt.plot(rajada,fT,\"v\",color=\"red\",label='tensões de ruptura ensaio')\n",
    "plt.ylabel(\"F( velocidade do vento )\",fontsize=14)\n",
    "plt.xlabel(\"velocidade do vento [m/s]\",fontsize=14)\n",
    "plt.legend('')\n",
    "\n",
    "plt.grid(ls='--')\n",
    "\n",
    "#Há 95% de probabilidade da rajada ser menor que o valor obtido\n",
    "print(\"Rajadas de vento: 95% de probabilidade de estar entre \", a, \"m/s e \", round(max(vento),2) ,\"m/s\")   \n",
    "print(\"Valores medidos em SJC, em 25 de Outubro de 2019 as 16:44\")"
   ]
  },
  {
   "cell_type": "code",
   "execution_count": null,
   "metadata": {},
   "outputs": [],
   "source": []
  },
  {
   "cell_type": "code",
   "execution_count": null,
   "metadata": {},
   "outputs": [],
   "source": []
  }
 ],
 "metadata": {
  "kernelspec": {
   "display_name": "Python 3",
   "language": "python",
   "name": "python3"
  },
  "language_info": {
   "codemirror_mode": {
    "name": "ipython",
    "version": 3
   },
   "file_extension": ".py",
   "mimetype": "text/x-python",
   "name": "python",
   "nbconvert_exporter": "python",
   "pygments_lexer": "ipython3",
   "version": "3.6.5"
  }
 },
 "nbformat": 4,
 "nbformat_minor": 2
}
