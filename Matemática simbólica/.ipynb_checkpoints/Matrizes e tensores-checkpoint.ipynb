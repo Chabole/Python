{
 "cells": [
  {
   "cell_type": "code",
   "execution_count": 130,
   "metadata": {},
   "outputs": [],
   "source": [
    "from scipy.integrate import odeint\n",
    "from scipy.integrate import quad, cumtrapz\n",
    "from scipy.misc import derivative\n",
    "import matplotlib.pyplot as plt\n",
    "from sympy import *\n",
    "import numpy as np\n",
    "from sympy.abc import *\n",
    "init_printing()"
   ]
  },
  {
   "cell_type": "markdown",
   "metadata": {},
   "source": [
    "## Matrizes e transformação"
   ]
  },
  {
   "cell_type": "code",
   "execution_count": 165,
   "metadata": {},
   "outputs": [
    {
     "data": {
      "text/latex": [
       "$\\displaystyle \\left( \\left[\\begin{matrix}\\cos{\\left(\\theta \\right)} & \\sin{\\left(\\theta \\right)} & 0\\\\- \\sin{\\left(\\theta \\right)} & \\cos{\\left(\\theta \\right)} & 0\\\\0 & 0 & 1\\end{matrix}\\right], \\  \\left[\\begin{matrix}\\cos{\\left(\\theta \\right)} & - \\sin{\\left(\\theta \\right)} & 0\\\\\\sin{\\left(\\theta \\right)} & \\cos{\\left(\\theta \\right)} & 0\\\\0 & 0 & 1\\end{matrix}\\right]\\right)$"
      ],
      "text/plain": [
       "⎛⎡cos(θ)   sin(θ)  0⎤  ⎡cos(θ)  -sin(θ)  0⎤⎞\n",
       "⎜⎢                  ⎥  ⎢                  ⎥⎟\n",
       "⎜⎢-sin(θ)  cos(θ)  0⎥, ⎢sin(θ)  cos(θ)   0⎥⎟\n",
       "⎜⎢                  ⎥  ⎢                  ⎥⎟\n",
       "⎝⎣   0       0     1⎦  ⎣  0        0     1⎦⎠"
      ]
     },
     "execution_count": 165,
     "metadata": {},
     "output_type": "execute_result"
    }
   ],
   "source": [
    "er = symbols('e_{r}')\n",
    "et = symbols('e_{\\\\theta}')\n",
    "ez = symbols('e_{z}')\n",
    "\n",
    "ex = symbols('e_{x}')\n",
    "ey = symbols('e_{y}')\n",
    "ez = symbols('e_{z}')\n",
    "\n",
    "m_transf = Matrix([[cos(theta), sin(theta), 0], [-sin(theta),cos(theta), 0], [0, 0, 1]])\n",
    "base_cilind = Matrix([er, et, ez])\n",
    "base_xyz = Matrix([ex, ey, ez])\n",
    "\n",
    "m_transf, m_transf.T"
   ]
  },
  {
   "cell_type": "code",
   "execution_count": 166,
   "metadata": {},
   "outputs": [
    {
     "data": {
      "text/latex": [
       "$\\displaystyle \\left( \\left[\\begin{matrix}e_{r}\\\\e_{\\theta}\\\\e_{z}\\end{matrix}\\right], \\  \\left[\\begin{matrix}e_{x}\\\\e_{y}\\\\e_{z}\\end{matrix}\\right]\\right)$"
      ],
      "text/plain": [
       "⎛⎡  e_{r}   ⎤  ⎡e_{x}⎤⎞\n",
       "⎜⎢          ⎥  ⎢     ⎥⎟\n",
       "⎜⎢e_{\\theta}⎥, ⎢e_{y}⎥⎟\n",
       "⎜⎢          ⎥  ⎢     ⎥⎟\n",
       "⎝⎣  e_{z}   ⎦  ⎣e_{z}⎦⎠"
      ]
     },
     "execution_count": 166,
     "metadata": {},
     "output_type": "execute_result"
    }
   ],
   "source": [
    "base_cilind, base_xyz"
   ]
  },
  {
   "cell_type": "code",
   "execution_count": 109,
   "metadata": {},
   "outputs": [
    {
     "data": {
      "text/latex": [
       "$\\displaystyle \\left[\\begin{matrix}e_{x}\\\\e_{y}\\\\e_{z}\\end{matrix}\\right] = \\left[\\begin{matrix}e_{x} \\cos{\\left(\\theta \\right)} + e_{y} \\sin{\\left(\\theta \\right)}\\\\- e_{x} \\sin{\\left(\\theta \\right)} + e_{y} \\cos{\\left(\\theta \\right)}\\\\e_{z}\\end{matrix}\\right]$"
      ],
      "text/plain": [
       "⎡e_{x}⎤   ⎡e_{x}⋅cos(θ) + e_{y}⋅sin(θ) ⎤\n",
       "⎢     ⎥   ⎢                            ⎥\n",
       "⎢e_{y}⎥ = ⎢-e_{x}⋅sin(θ) + e_{y}⋅cos(θ)⎥\n",
       "⎢     ⎥   ⎢                            ⎥\n",
       "⎣e_{z}⎦   ⎣           e_{z}            ⎦"
      ]
     },
     "execution_count": 109,
     "metadata": {},
     "output_type": "execute_result"
    }
   ],
   "source": [
    "base_cilind = (m_transf*base_xyz) \n",
    "Eq(base_xyz, base_cilind)"
   ]
  },
  {
   "cell_type": "code",
   "execution_count": null,
   "metadata": {},
   "outputs": [],
   "source": []
  },
  {
   "cell_type": "markdown",
   "metadata": {},
   "source": [
    "## Tensores "
   ]
  },
  {
   "cell_type": "code",
   "execution_count": 115,
   "metadata": {},
   "outputs": [
    {
     "data": {
      "text/latex": [
       "$\\displaystyle \\left[\\begin{matrix}\\delta_{x} & \\delta_{xy} & \\delta_{xz}\\\\\\delta_{yx} & \\delta_{y} & \\delta_{yz}\\\\\\delta_{zx} & \\delta_{zy} & \\delta_{z}\\end{matrix}\\right] = 0$"
      ],
      "text/plain": [
       "⎡\\delta_{x}   \\delta_{xy}  \\delta_{xz}⎤    \n",
       "⎢                                     ⎥    \n",
       "⎢\\delta_{yx}  \\delta_{y}   \\delta_{yz}⎥ = 0\n",
       "⎢                                     ⎥    \n",
       "⎣\\delta_{zx}  \\delta_{zy}  \\delta_{z} ⎦    "
      ]
     },
     "execution_count": 115,
     "metadata": {},
     "output_type": "execute_result"
    }
   ],
   "source": [
    "xx, xy, xz = symbols('\\delta_{x} \\delta_{xy} \\delta_{xz}')\n",
    "yx, yy, yz = symbols('\\delta_{yx} \\delta_{y} \\delta_{yz}')\n",
    "zx, zy, zz = symbols('\\delta_{zx} \\delta_{zy} \\delta_{z}')\n",
    "\n",
    "tensor_xyz = Array([[xx, xy, xz], [yx, yy, yz], [zx, zy, zz]])\n",
    "Eq(tensor_xyz, 0)"
   ]
  },
  {
   "cell_type": "code",
   "execution_count": 129,
   "metadata": {},
   "outputs": [],
   "source": [
    "#tensor_cilind = tensorproduct(m_transf, tensor_xyz)\n",
    "#tensor_cilind"
   ]
  },
  {
   "cell_type": "code",
   "execution_count": 158,
   "metadata": {},
   "outputs": [],
   "source": [
    "import tensorflow"
   ]
  },
  {
   "cell_type": "markdown",
   "metadata": {},
   "source": [
    "## Séries de fourier "
   ]
  },
  {
   "cell_type": "code",
   "execution_count": 160,
   "metadata": {},
   "outputs": [
    {
     "data": {
      "image/png": "[encoded data removed]",
      "text/latex": [
       "$\\displaystyle - \\frac{8 \\pi^{2} \\cos{\\left(\\frac{\\pi x}{\\pi} \\right)}}{\\pi^{2}} + \\frac{2 \\pi^{2} \\cos{\\left(\\frac{2 \\pi x}{\\pi} \\right)}}{\\pi^{2}} + \\frac{2 \\pi^{2}}{3}$"
      ],
      "text/plain": [
       "     2    ⎛π⋅x⎞      2    ⎛2⋅π⋅x⎞       \n",
       "  8⋅π ⋅cos⎜───⎟   2⋅π ⋅cos⎜─────⎟      2\n",
       "          ⎝ π ⎠           ⎝  π  ⎠   2⋅π \n",
       "- ───────────── + ─────────────── + ────\n",
       "         2                2          3  \n",
       "        π                π              "
      ]
     },
     "execution_count": 160,
     "metadata": {},
     "output_type": "execute_result"
    }
   ],
   "source": [
    "from sympy.abc import *\n",
    "\n",
    "s = fourier_series(x**2, (x, -pi, pi))\n",
    "s.scale(2).truncate()"
   ]
  },
  {
   "cell_type": "code",
   "execution_count": null,
   "metadata": {},
   "outputs": [],
   "source": []
  }
 ],
 "metadata": {
  "kernelspec": {
   "display_name": "Python 3",
   "language": "python",
   "name": "python3"
  },
  "language_info": {
   "codemirror_mode": {
    "name": "ipython",
    "version": 3
   },
   "file_extension": ".py",
   "mimetype": "text/x-python",
   "name": "python",
   "nbconvert_exporter": "python",
   "pygments_lexer": "ipython3",
   "version": "3.8.5"
  }
 },
 "nbformat": 4,
 "nbformat_minor": 4
}
