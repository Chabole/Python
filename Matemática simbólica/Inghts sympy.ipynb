{
 "cells": [
  {
   "cell_type": "code",
   "execution_count": null,
   "metadata": {},
   "outputs": [],
   "source": [
    "!jt -t onedork"
   ]
  },
  {
   "cell_type": "code",
   "execution_count": 2,
   "metadata": {},
   "outputs": [],
   "source": [
    "import numpy as np\n",
    "from sympy import *\n",
    "from sympy.abc import *\n",
    "init_printing()\n",
    "%matplotlib inline  "
   ]
  },
  {
   "cell_type": "markdown",
   "metadata": {},
   "source": [
    "# Equações Algébricas"
   ]
  },
  {
   "cell_type": "code",
   "execution_count": 2,
   "metadata": {},
   "outputs": [
    {
     "data": {
      "image/png": "[encoded data removed]",
      "text/latex": [
       "$\\displaystyle x^{2} + 5 x + 1$"
      ],
      "text/plain": [
       " 2          \n",
       "x  + 5⋅x + 1"
      ]
     },
     "execution_count": 2,
     "metadata": {},
     "output_type": "execute_result"
    }
   ],
   "source": [
    "#Funções\n",
    "e = x**2 + 5*x + 1\n",
    "e"
   ]
  },
  {
   "cell_type": "code",
   "execution_count": 3,
   "metadata": {},
   "outputs": [
    {
     "data": {
      "image/png": "[encoded data removed]",
      "text/latex": [
       "$\\displaystyle x^{2} + 5 x + 1 = 0$"
      ],
      "text/plain": [
       " 2              \n",
       "x  + 5⋅x + 1 = 0"
      ]
     },
     "execution_count": 3,
     "metadata": {},
     "output_type": "execute_result"
    }
   ],
   "source": [
    "#Equações\n",
    "Eq(e, 0)"
   ]
  },
  {
   "cell_type": "code",
   "execution_count": 4,
   "metadata": {},
   "outputs": [
    {
     "data": {
      "image/png": "[encoded data removed]",
      "text/latex": [
       "$\\displaystyle x^{2} + 5 x + 1 = x^{2} + 2 x$"
      ],
      "text/plain": [
       " 2              2      \n",
       "x  + 5⋅x + 1 = x  + 2⋅x"
      ]
     },
     "execution_count": 4,
     "metadata": {},
     "output_type": "execute_result"
    }
   ],
   "source": [
    "#Equações redutiveis\n",
    "func = Eq(e, 2*x + x**2)\n",
    "func"
   ]
  },
  {
   "cell_type": "code",
   "execution_count": 5,
   "metadata": {},
   "outputs": [
    {
     "data": {
      "image/png": "[encoded data removed]",
      "text/latex": [
       "$\\displaystyle x = - \\frac{1}{3}$"
      ],
      "text/plain": [
       "x = -1/3"
      ]
     },
     "execution_count": 5,
     "metadata": {},
     "output_type": "execute_result"
    }
   ],
   "source": [
    "#Equações simplificadas\n",
    "func.simplify()"
   ]
  },
  {
   "cell_type": "code",
   "execution_count": 6,
   "metadata": {},
   "outputs": [
    {
     "data": {
      "image/png": "[encoded data removed]",
      "text/latex": [
       "$\\displaystyle \\left\\{- \\frac{5}{2} - \\frac{\\sqrt{21}}{2}, - \\frac{5}{2} + \\frac{\\sqrt{21}}{2}\\right\\}$"
      ],
      "text/plain": [
       "⎧  5   √21    5   √21⎫\n",
       "⎨- ─ - ───, - ─ + ───⎬\n",
       "⎩  2    2     2    2 ⎭"
      ]
     },
     "execution_count": 6,
     "metadata": {},
     "output_type": "execute_result"
    }
   ],
   "source": [
    "#Resolvendo uma equação \n",
    "e = Eq(e, 0)\n",
    "solveset(e)"
   ]
  },
  {
   "cell_type": "code",
   "execution_count": 7,
   "metadata": {},
   "outputs": [
    {
     "data": {
      "image/png": "[encoded data removed]",
      "text/latex": [
       "$\\displaystyle \\left\\{- \\frac{\\sqrt[3]{3 \\sqrt{87} + 28}}{3} - \\frac{1}{3} - \\frac{1}{3 \\sqrt[3]{3 \\sqrt{87} + 28}}, - \\frac{1}{3} + \\frac{1}{6 \\sqrt[3]{3 \\sqrt{87} + 28}} + \\frac{\\sqrt[3]{3 \\sqrt{87} + 28}}{6} + i \\left(- \\frac{\\sqrt{3}}{6 \\sqrt[3]{3 \\sqrt{87} + 28}} + \\frac{\\sqrt{3} \\sqrt[3]{3 \\sqrt{87} + 28}}{6}\\right), - \\frac{1}{3} + \\frac{1}{6 \\sqrt[3]{3 \\sqrt{87} + 28}} + \\frac{\\sqrt[3]{3 \\sqrt{87} + 28}}{6} + i \\left(- \\frac{\\sqrt{3} \\sqrt[3]{3 \\sqrt{87} + 28}}{6} + \\frac{\\sqrt{3}}{6 \\sqrt[3]{3 \\sqrt{87} + 28}}\\right)\\right\\}$"
      ],
      "text/plain": [
       "⎧  3 ____________                                                  3 _________\n",
       "⎪  ╲╱ 3⋅√87 + 28    1          1            1          1           ╲╱ 3⋅√87 + \n",
       "⎨- ────────────── - ─ - ────────────────, - ─ + ──────────────── + ───────────\n",
       "⎪        3          3     3 ____________    3     3 ____________         6    \n",
       "⎩                       3⋅╲╱ 3⋅√87 + 28         6⋅╲╱ 3⋅√87 + 28               \n",
       "\n",
       "___     ⎛                        3 ____________⎞                           3 _\n",
       "28      ⎜         √3          √3⋅╲╱ 3⋅√87 + 28 ⎟    1          1           ╲╱ \n",
       "─── + ⅈ⋅⎜- ──────────────── + ─────────────────⎟, - ─ + ──────────────── + ───\n",
       "        ⎜    3 ____________           6        ⎟    3     3 ____________      \n",
       "        ⎝  6⋅╲╱ 3⋅√87 + 28                     ⎠        6⋅╲╱ 3⋅√87 + 28       \n",
       "\n",
       "___________     ⎛     3 ____________                   ⎞⎫\n",
       "3⋅√87 + 28      ⎜  √3⋅╲╱ 3⋅√87 + 28           √3       ⎟⎪\n",
       "─────────── + ⅈ⋅⎜- ───────────────── + ────────────────⎟⎬\n",
       "   6            ⎜          6             3 ____________⎟⎪\n",
       "                ⎝                      6⋅╲╱ 3⋅√87 + 28 ⎠⎭"
      ]
     },
     "execution_count": 7,
     "metadata": {},
     "output_type": "execute_result"
    }
   ],
   "source": [
    "#Resolvendo uma equação \n",
    "e = Eq(x**3 + x**2 + 2, 0)\n",
    "solveset(e)"
   ]
  },
  {
   "cell_type": "code",
   "execution_count": 8,
   "metadata": {},
   "outputs": [
    {
     "data": {
      "image/png": "[encoded data removed]",
      "text/latex": [
       "$\\displaystyle \\left\\{-1.7, 0.348 - 1.03 i, 0.348 + 1.03 i\\right\\}$"
      ],
      "text/plain": [
       "{-1.7, 0.348 - 1.03⋅ⅈ, 0.348 + 1.03⋅ⅈ}"
      ]
     },
     "execution_count": 8,
     "metadata": {},
     "output_type": "execute_result"
    }
   ],
   "source": [
    "#Transformando o resultado em decimal\n",
    "solveset(e).evalf(3)"
   ]
  },
  {
   "cell_type": "markdown",
   "metadata": {},
   "source": [
    "## Sistema de equações"
   ]
  },
  {
   "cell_type": "code",
   "execution_count": 9,
   "metadata": {},
   "outputs": [
    {
     "data": {
      "image/png": "[encoded data removed]",
      "text/latex": [
       "$\\displaystyle \\left\\{ x : \\frac{10}{3}, \\  y : - \\frac{35}{3}, \\  z : \\frac{25}{3}\\right\\}$"
      ],
      "text/plain": [
       "{x: 10/3, y: -35/3, z: 25/3}"
      ]
     },
     "execution_count": 9,
     "metadata": {},
     "output_type": "execute_result"
    }
   ],
   "source": [
    "eq1 = Eq(x + y + z, 0) \n",
    "eq2 = Eq(2*x - y - z, 10) \n",
    "eq3 = Eq(y + 2*z, 5) \n",
    "\n",
    "lista_eq = [eq1, eq2, eq3]\n",
    "\n",
    "solve([eq1, eq2, eq3],[x,y,z])"
   ]
  },
  {
   "cell_type": "markdown",
   "metadata": {},
   "source": [
    "# Matrizes"
   ]
  },
  {
   "cell_type": "code",
   "execution_count": 10,
   "metadata": {},
   "outputs": [
    {
     "data": {
      "text/latex": [
       "$\\displaystyle \\left( \\left[\\begin{matrix}14 & 3 & 5\\\\7 & 8 & 6\\\\3 & 5 & 12\\end{matrix}\\right], \\  \\left[\\begin{matrix}x\\\\y\\\\z\\end{matrix}\\right], \\  \\left[\\begin{matrix}8\\\\35\\\\15\\end{matrix}\\right]\\right)$"
      ],
      "text/plain": [
       "⎛⎡14  3  5 ⎤  ⎡x⎤  ⎡8 ⎤⎞\n",
       "⎜⎢         ⎥  ⎢ ⎥  ⎢  ⎥⎟\n",
       "⎜⎢7   8  6 ⎥, ⎢y⎥, ⎢35⎥⎟\n",
       "⎜⎢         ⎥  ⎢ ⎥  ⎢  ⎥⎟\n",
       "⎝⎣3   5  12⎦  ⎣z⎦  ⎣15⎦⎠"
      ]
     },
     "execution_count": 10,
     "metadata": {},
     "output_type": "execute_result"
    }
   ],
   "source": [
    "#Matriz solução ax=b\n",
    "A = Matrix([[14,3,5],[7,8,6],[3,5,12]])\n",
    "B = Matrix([8,35,15])\n",
    "x = Matrix(['x','y','z'])\n",
    "A,x,B"
   ]
  },
  {
   "cell_type": "code",
   "execution_count": 11,
   "metadata": {},
   "outputs": [
    {
     "data": {
      "text/latex": [
       "$\\displaystyle \\left[\\begin{matrix}14 x + 3 y + 5 z\\\\7 x + 8 y + 6 z\\\\3 x + 5 y + 12 z\\end{matrix}\\right] = \\left[\\begin{matrix}8\\\\35\\\\15\\end{matrix}\\right]$"
      ],
      "text/plain": [
       "⎡14⋅x + 3⋅y + 5⋅z⎤   ⎡8 ⎤\n",
       "⎢                ⎥   ⎢  ⎥\n",
       "⎢7⋅x + 8⋅y + 6⋅z ⎥ = ⎢35⎥\n",
       "⎢                ⎥   ⎢  ⎥\n",
       "⎣3⋅x + 5⋅y + 12⋅z⎦   ⎣15⎦"
      ]
     },
     "execution_count": 11,
     "metadata": {},
     "output_type": "execute_result"
    }
   ],
   "source": [
    "#Beautify\n",
    "Eq(A*x,B)"
   ]
  },
  {
   "cell_type": "code",
   "execution_count": 12,
   "metadata": {},
   "outputs": [
    {
     "data": {
      "text/latex": [
       "$\\displaystyle \\left( \\left[\\begin{matrix}x\\\\y\\\\z\\end{matrix}\\right], \\  \\left[\\begin{matrix}- \\frac{17}{71}\\\\\\frac{372}{71}\\\\- \\frac{62}{71}\\end{matrix}\\right]\\right)$"
      ],
      "text/plain": [
       "⎛     ⎡-17 ⎤⎞\n",
       "⎜     ⎢────⎥⎟\n",
       "⎜     ⎢ 71 ⎥⎟\n",
       "⎜⎡x⎤  ⎢    ⎥⎟\n",
       "⎜⎢ ⎥  ⎢372 ⎥⎟\n",
       "⎜⎢y⎥, ⎢─── ⎥⎟\n",
       "⎜⎢ ⎥  ⎢ 71 ⎥⎟\n",
       "⎜⎣z⎦  ⎢    ⎥⎟\n",
       "⎜     ⎢-62 ⎥⎟\n",
       "⎜     ⎢────⎥⎟\n",
       "⎝     ⎣ 71 ⎦⎠"
      ]
     },
     "execution_count": 12,
     "metadata": {},
     "output_type": "execute_result"
    }
   ],
   "source": [
    "# x = A^-1 * b\n",
    "sol = A.inv()*B\n",
    "x, sol"
   ]
  },
  {
   "cell_type": "code",
   "execution_count": 13,
   "metadata": {},
   "outputs": [
    {
     "data": {
      "text/latex": [
       "$\\displaystyle \\left[\\begin{matrix}x\\\\y\\\\z\\end{matrix}\\right] = \\left[\\begin{matrix}-0.239\\\\5.24\\\\-0.873\\end{matrix}\\right]$"
      ],
      "text/plain": [
       "⎡x⎤   ⎡-0.239⎤\n",
       "⎢ ⎥   ⎢      ⎥\n",
       "⎢y⎥ = ⎢ 5.24 ⎥\n",
       "⎢ ⎥   ⎢      ⎥\n",
       "⎣z⎦   ⎣-0.873⎦"
      ]
     },
     "execution_count": 13,
     "metadata": {},
     "output_type": "execute_result"
    }
   ],
   "source": [
    "#Decimal e Beautify\n",
    "Eq(x, sol.evalf(3))"
   ]
  },
  {
   "cell_type": "code",
   "execution_count": 18,
   "metadata": {},
   "outputs": [
    {
     "data": {
      "text/latex": [
       "$\\displaystyle \\left[\\begin{matrix}292\\\\426\\\\379\\end{matrix}\\right]$"
      ],
      "text/plain": [
       "⎡292⎤\n",
       "⎢   ⎥\n",
       "⎢426⎥\n",
       "⎢   ⎥\n",
       "⎣379⎦"
      ]
     },
     "execution_count": 18,
     "metadata": {},
     "output_type": "execute_result"
    }
   ],
   "source": [
    "#Operações\n",
    "A*B"
   ]
  },
  {
   "cell_type": "markdown",
   "metadata": {},
   "source": [
    "# Equações diferenciais "
   ]
  },
  {
   "cell_type": "markdown",
   "metadata": {},
   "source": [
    "## Crescimento populacional "
   ]
  },
  {
   "cell_type": "code",
   "execution_count": 4,
   "metadata": {},
   "outputs": [
    {
     "data": {
      "image/png": "[encoded data removed]",
      "text/latex": [
       "$\\displaystyle \\frac{d}{d t} y{\\left(t \\right)} = k y{\\left(t \\right)}$"
      ],
      "text/plain": [
       "d                \n",
       "──(y(t)) = k⋅y(t)\n",
       "dt               "
      ]
     },
     "execution_count": 4,
     "metadata": {},
     "output_type": "execute_result"
    }
   ],
   "source": [
    "from sympy.abc import *\n",
    "#Crescimento irrestrito \n",
    "y = Function('y')\n",
    "edo = Eq(Derivative(y(t), t), k*y(t))\n",
    "(edo)"
   ]
  },
  {
   "cell_type": "code",
   "execution_count": 29,
   "metadata": {},
   "outputs": [
    {
     "data": {
      "image/png": "[encoded data removed]",
      "text/latex": [
       "$\\displaystyle y{\\left(t \\right)} = C_{1} e^{k t}$"
      ],
      "text/plain": [
       "           k⋅t\n",
       "y(t) = C₁⋅ℯ   "
      ]
     },
     "execution_count": 29,
     "metadata": {},
     "output_type": "execute_result"
    }
   ],
   "source": [
    "sol = dsolve(edo)\n",
    "sol"
   ]
  },
  {
   "cell_type": "code",
   "execution_count": 30,
   "metadata": {},
   "outputs": [
    {
     "data": {
      "image/png": "[encoded data removed]",
      "text/latex": [
       "$\\displaystyle y{\\left(2 \\right)} = 2.98 \\cdot 10^{3} C_{1}$"
      ],
      "text/plain": [
       "y(2) = 2.98e+3⋅C₁"
      ]
     },
     "execution_count": 30,
     "metadata": {},
     "output_type": "execute_result"
    }
   ],
   "source": [
    "sol.subs([(t, 2),(k, 4)]).evalf(3)"
   ]
  },
  {
   "cell_type": "code",
   "execution_count": 31,
   "metadata": {},
   "outputs": [
    {
     "data": {
      "image/png": "[encoded data removed]",
      "text/latex": [
       "$\\displaystyle \\frac{d}{d t} y{\\left(t \\right)} = k \\left(1 - \\frac{y{\\left(t \\right)}}{L}\\right)$"
      ],
      "text/plain": [
       "d            ⎛    y(t)⎞\n",
       "──(y(t)) = k⋅⎜1 - ────⎟\n",
       "dt           ⎝     L  ⎠"
      ]
     },
     "execution_count": 31,
     "metadata": {},
     "output_type": "execute_result"
    }
   ],
   "source": [
    "#Crescimento restrito \n",
    "y = Function('y')\n",
    "edo2 = Eq(Derivative(y(t), t), k*(1 - y(t)/L))\n",
    "edo2"
   ]
  },
  {
   "cell_type": "code",
   "execution_count": 32,
   "metadata": {},
   "outputs": [
    {
     "data": {
      "image/png": "[encoded data removed]",
      "text/latex": [
       "$\\displaystyle y{\\left(t \\right)} = C_{1} e^{- \\frac{k t}{L}} + L$"
      ],
      "text/plain": [
       "           -k⋅t     \n",
       "           ─────    \n",
       "             L      \n",
       "y(t) = C₁⋅ℯ      + L"
      ]
     },
     "execution_count": 32,
     "metadata": {},
     "output_type": "execute_result"
    }
   ],
   "source": [
    "dsolve(edo2)"
   ]
  },
  {
   "cell_type": "markdown",
   "metadata": {},
   "source": [
    "### Solução numérica do cresc pop restrito"
   ]
  },
  {
   "cell_type": "code",
   "execution_count": 52,
   "metadata": {},
   "outputs": [],
   "source": [
    "from scipy.integrate import odeint\n",
    "from scipy.integrate import quad, cumtrapz\n",
    "from scipy.misc import derivative\n",
    "import matplotlib.pyplot as plt"
   ]
  },
  {
   "cell_type": "code",
   "execution_count": 34,
   "metadata": {},
   "outputs": [
    {
     "name": "stdout",
     "output_type": "stream",
     "text": [
      "[ 0.          2.          4.          6.          8.         10.\n",
      " 12.         14.         15.99999999 17.99999999 19.99999999]\n",
      "[  0.   1.   4.   9.  16.  25.  36.  49.  64.  81. 100.]\n"
     ]
    }
   ],
   "source": [
    "#Testando derivadas\n",
    "%matplotlib inline\n",
    "x = np.linspace(0, 10, 11)\n",
    "def f(x):\n",
    "    return x**2\n",
    "dfdx = derivative(f, x, dx=1e-6)\n",
    "\n",
    "print(dfdx)\n",
    "print(f(x))"
   ]
  },
  {
   "cell_type": "code",
   "execution_count": 36,
   "metadata": {},
   "outputs": [
    {
     "data": {
      "text/plain": [
       "array([[0.        ],\n",
       "       [0.78693866],\n",
       "       [1.26424112],\n",
       "       [1.5537397 ],\n",
       "       [1.72932946],\n",
       "       [1.83583003],\n",
       "       [1.90042587],\n",
       "       [1.93960523],\n",
       "       [1.96336872],\n",
       "       [1.977782  ],\n",
       "       [1.9865241 ]])"
      ]
     },
     "execution_count": 36,
     "metadata": {},
     "output_type": "execute_result"
    }
   ],
   "source": [
    "def crespop(y, t, K, L):\n",
    "    dydt = K*(1 - y/L )\n",
    "    return dydt\n",
    "\n",
    "#Condições iniciais\n",
    "t = np.linspace(0, 10, 11)\n",
    "K = 1\n",
    "L = 2\n",
    "\n",
    "y = odeint(crespop, 0, t, args=(K, L))\n",
    "y"
   ]
  },
  {
   "cell_type": "markdown",
   "metadata": {},
   "source": [
    "### Aproximando para um polinômio"
   ]
  },
  {
   "cell_type": "code",
   "execution_count": 37,
   "metadata": {},
   "outputs": [
    {
     "name": "stdout",
     "output_type": "stream",
     "text": [
      "            4           3          2\n",
      "-0.0005811 x + 0.01663 x - 0.1814 x + 0.9292 x + 0.007376\n"
     ]
    }
   ],
   "source": [
    "pol = np.polyfit(t, y, 4)\n",
    "ply = np.poly1d([float(pol[0]), float(pol[1]), float(pol[2]), float(pol[3]), float(pol[4])])\n",
    "print(ply)"
   ]
  },
  {
   "cell_type": "code",
   "execution_count": 38,
   "metadata": {},
   "outputs": [
    {
     "data": {
      "text/plain": [
       "<matplotlib.legend.Legend at 0x1d2fb3d6f40>"
      ]
     },
     "execution_count": 38,
     "metadata": {},
     "output_type": "execute_result"
    },
    {
     "data": {
      "image/png": "[encoded data removed]",
      "text/plain": [
       "<Figure size 432x288 with 1 Axes>"
      ]
     },
     "metadata": {
      "needs_background": "light"
     },
     "output_type": "display_data"
    }
   ],
   "source": [
    "plt.plot(t, ply(t), label='Polinômio')\n",
    "plt.plot(t, y, label='odeint EDO')\n",
    "plt.plot(t, (-2*np.e**((-K*t)/L)) + L,'--', label= 'Solução analítica')\n",
    "plt.legend()"
   ]
  },
  {
   "cell_type": "markdown",
   "metadata": {},
   "source": [
    "### Considerando L como uma array e controlando a solução"
   ]
  },
  {
   "cell_type": "code",
   "execution_count": 39,
   "metadata": {},
   "outputs": [
    {
     "data": {
      "text/plain": [
       "array([0.01, 0.01, 0.01, 2.  , 2.  , 2.  , 2.  , 2.  , 2.  , 2.  , 2.  ])"
      ]
     },
     "execution_count": 39,
     "metadata": {},
     "output_type": "execute_result"
    }
   ],
   "source": [
    "t = np.linspace(0, 10, 11)\n",
    "K = 1\n",
    "L = np.zeros(len(t))\n",
    "L[3:] = 2\n",
    "L[:3] = 0.01\n",
    "yO = 0\n",
    "L"
   ]
  },
  {
   "cell_type": "code",
   "execution_count": 40,
   "metadata": {},
   "outputs": [
    {
     "name": "stdout",
     "output_type": "stream",
     "text": [
      "[0.01]\n",
      "[0.01]\n",
      "[0.01]\n",
      "[0.79300397]\n",
      "[1.26791987]\n",
      "[1.55597087]\n",
      "[1.73068271]\n",
      "[1.83665082]\n",
      "[1.90092367]\n",
      "[1.93990712]\n"
     ]
    }
   ],
   "source": [
    "ys = np.zeros(len(t))\n",
    "ys[0] = yO\n",
    "\n",
    "for i in range(len(t)-1):\n",
    "    ts = [t[i], t[i+1]]\n",
    "    y = odeint(crespop, yO, ts, args=(K, L[i]))\n",
    "    yO = y[1]\n",
    "    ys[1+i] = yO\n",
    "    print(y[1])"
   ]
  },
  {
   "cell_type": "code",
   "execution_count": 41,
   "metadata": {},
   "outputs": [
    {
     "data": {
      "text/plain": [
       "<matplotlib.legend.Legend at 0x1d2fb6f4af0>"
      ]
     },
     "execution_count": 41,
     "metadata": {},
     "output_type": "execute_result"
    },
    {
     "data": {
      "image/png": "[encoded data removed]",
      "text/plain": [
       "<Figure size 432x288 with 1 Axes>"
      ]
     },
     "metadata": {
      "needs_background": "light"
     },
     "output_type": "display_data"
    }
   ],
   "source": [
    "plt.plot(t, ys, label='Com controle')\n",
    "plt.plot(t, ply(t),'--' ,label='Sem controle')\n",
    "plt.legend()"
   ]
  },
  {
   "cell_type": "markdown",
   "metadata": {},
   "source": [
    "## EDOs de decolagem do anderson"
   ]
  },
  {
   "cell_type": "code",
   "execution_count": 44,
   "metadata": {},
   "outputs": [
    {
     "data": {
      "image/png": "[encoded data removed]",
      "text/latex": [
       "$\\displaystyle m \\frac{d}{d t} V{\\left(t \\right)} = - D + T - \\mu \\left(- L + W\\right)$"
      ],
      "text/plain": [
       "  d                             \n",
       "m⋅──(V(t)) = -D + T - μ⋅(-L + W)\n",
       "  dt                            "
      ]
     },
     "execution_count": 44,
     "metadata": {},
     "output_type": "execute_result"
    }
   ],
   "source": [
    "from sympy.abc import *\n",
    "V = Function('V')\n",
    "f = Derivative(V(t), t) * m\n",
    "f = Eq(f, T - D - mu*(W - L))\n",
    "f"
   ]
  },
  {
   "cell_type": "code",
   "execution_count": 45,
   "metadata": {},
   "outputs": [
    {
     "data": {
      "image/png": "[encoded data removed]",
      "text/latex": [
       "$\\displaystyle m \\frac{d}{d t} V{\\left(t \\right)} = - 0.5 C_{D} S \\rho V^{2}{\\left(t \\right)} + T V{\\left(t \\right)} - \\mu \\left(- 0.5 C_{L} S \\rho V^{2}{\\left(t \\right)} + W\\right)$"
      ],
      "text/plain": [
       "  d                           2                 ⎛                 2       ⎞\n",
       "m⋅──(V(t)) = - 0.5⋅C_{D}⋅S⋅ρ⋅V (t) + T⋅V(t) - μ⋅⎝- 0.5⋅C_{L}⋅S⋅ρ⋅V (t) + W⎠\n",
       "  dt                                                                       "
      ]
     },
     "execution_count": 45,
     "metadata": {},
     "output_type": "execute_result"
    }
   ],
   "source": [
    "V = Function('V')\n",
    "Cd, CL = symbols(['C_{D}','C_{L}'])\n",
    "\n",
    "f = Derivative(V(t), t) * m\n",
    "f = Eq(f, T*V(t) - 0.5*rho*(V(t)**2)*S*Cd - mu*(W - 0.5*rho*(V(t)**2)*S*CL))\n",
    "f"
   ]
  },
  {
   "cell_type": "code",
   "execution_count": 46,
   "metadata": {},
   "outputs": [
    {
     "data": {
      "image/png": "[encoded data removed]",
      "text/latex": [
       "$\\displaystyle m \\frac{d}{d t} V{\\left(t \\right)} = - 0.5 C_{D} S \\rho V^{2}{\\left(t \\right)} + T V{\\left(t \\right)} + \\mu \\left(0.5 C_{L} S \\rho V^{2}{\\left(t \\right)} - W\\right)$"
      ],
      "text/plain": [
       "  d                           2                 ⎛               2       ⎞\n",
       "m⋅──(V(t)) = - 0.5⋅C_{D}⋅S⋅ρ⋅V (t) + T⋅V(t) + μ⋅⎝0.5⋅C_{L}⋅S⋅ρ⋅V (t) - W⎠\n",
       "  dt                                                                     "
      ]
     },
     "execution_count": 46,
     "metadata": {},
     "output_type": "execute_result"
    }
   ],
   "source": [
    "f.simplify()"
   ]
  },
  {
   "cell_type": "code",
   "execution_count": 58,
   "metadata": {},
   "outputs": [],
   "source": [
    "def EDO_TakeOff(y, t):\n",
    "    T = Zb.trac_Available(y)\n",
    "    D = Zb.drag_Force(y, Zb.CLmax)\n",
    "    R = Zb.mi*(Zb.W - Zb.lift_Force(y, Zb.CLn))\n",
    "    dvdt = (T - D - R)/(Zb.M)\n",
    "    return dvdt\n",
    "\n"
   ]
  },
  {
   "cell_type": "code",
   "execution_count": 48,
   "metadata": {},
   "outputs": [
    {
     "data": {
      "image/png": "[encoded data removed]",
      "text/latex": [
       "$\\displaystyle 1.0 m \\sqrt{- \\frac{1}{1.0 C_{D} S W \\mu \\rho - 1.0 C_{L} S W \\mu^{2} \\rho - 0.5 T^{2}}} \\left(- 0.707106781186548 \\log{\\left(1.0 V{\\left(t \\right)} + \\frac{- 1.4142135623731 C_{D} S W \\mu \\rho \\sqrt{- \\frac{1}{1.0 C_{D} S W \\mu \\rho - 1.0 C_{L} S W \\mu^{2} \\rho - 0.5 T^{2}}} + 1.4142135623731 C_{L} S W \\mu^{2} \\rho \\sqrt{- \\frac{1}{1.0 C_{D} S W \\mu \\rho - 1.0 C_{L} S W \\mu^{2} \\rho - 0.5 T^{2}}} + 0.707106781186548 T^{2} \\sqrt{- \\frac{1}{1.0 C_{D} S W \\mu \\rho - 1.0 C_{L} S W \\mu^{2} \\rho - 0.5 T^{2}}} - 1.0 T}{S \\rho \\left(1.0 C_{D} - 1.0 C_{L} \\mu\\right)} \\right)} + 0.707106781186548 \\log{\\left(1.0 V{\\left(t \\right)} + \\frac{1.4142135623731 C_{D} S W \\mu \\rho \\sqrt{- \\frac{1}{1.0 C_{D} S W \\mu \\rho - 1.0 C_{L} S W \\mu^{2} \\rho - 0.5 T^{2}}} - 1.4142135623731 C_{L} S W \\mu^{2} \\rho \\sqrt{- \\frac{1}{1.0 C_{D} S W \\mu \\rho - 1.0 C_{L} S W \\mu^{2} \\rho - 0.5 T^{2}}} - 0.707106781186548 T^{2} \\sqrt{- \\frac{1}{1.0 C_{D} S W \\mu \\rho - 1.0 C_{L} S W \\mu^{2} \\rho - 0.5 T^{2}}} - 1.0 T}{S \\rho \\left(1.0 C_{D} - 1.0 C_{L} \\mu\\right)} \\right)}\\right) = C_{1} - t$"
      ],
      "text/plain": [
       "                                                             ⎛                \n",
       "                                                             ⎜                \n",
       "                                                             ⎜                \n",
       "           _________________________________________________ ⎜                \n",
       "          ╱                       -1                         ⎜                \n",
       "1.0⋅m⋅   ╱  ─────────────────────────────────────────────── ⋅⎜- 0.707106781186\n",
       "        ╱                                      2          2  ⎝                \n",
       "      ╲╱    1.0⋅C_{D}⋅S⋅W⋅μ⋅ρ - 1.0⋅C_{L}⋅S⋅W⋅μ ⋅ρ - 0.5⋅T                    \n",
       "\n",
       "       ⎛                                                ______________________\n",
       "       ⎜                                               ╱                      \n",
       "       ⎜           - 1.4142135623731⋅C_{D}⋅S⋅W⋅μ⋅ρ⋅   ╱  ─────────────────────\n",
       "       ⎜                                             ╱                        \n",
       "       ⎜                                           ╲╱    1.0⋅C_{D}⋅S⋅W⋅μ⋅ρ - 1\n",
       "548⋅log⎜1.0⋅V(t) + ───────────────────────────────────────────────────────────\n",
       "       ⎝                                                                      \n",
       "                                                                              \n",
       "\n",
       "___________________________                                       ____________\n",
       " -1                                                      2       ╱            \n",
       "──────────────────────────  + 1.4142135623731⋅C_{L}⋅S⋅W⋅μ ⋅ρ⋅   ╱  ───────────\n",
       "              2          2                                     ╱              \n",
       ".0⋅C_{L}⋅S⋅W⋅μ ⋅ρ - 0.5⋅T                                    ╲╱    1.0⋅C_{D}⋅S\n",
       "──────────────────────────────────────────────────────────────────────────────\n",
       "                                                        S⋅ρ⋅(1.0⋅C_{D} - 1.0⋅C\n",
       "                                                                              \n",
       "\n",
       "_____________________________________                             ____________\n",
       "           -1                                              2     ╱            \n",
       "────────────────────────────────────  + 0.707106781186548⋅T ⋅   ╱  ───────────\n",
       "                        2          2                           ╱              \n",
       "⋅W⋅μ⋅ρ - 1.0⋅C_{L}⋅S⋅W⋅μ ⋅ρ - 0.5⋅T                          ╲╱    1.0⋅C_{D}⋅S\n",
       "──────────────────────────────────────────────────────────────────────────────\n",
       "_{L}⋅μ)                                                                       \n",
       "                                                                              \n",
       "\n",
       "_____________________________________        ⎞                        ⎛       \n",
       "           -1                                ⎟                        ⎜       \n",
       "────────────────────────────────────  - 1.0⋅T⎟                        ⎜       \n",
       "                        2          2         ⎟                        ⎜       \n",
       "⋅W⋅μ⋅ρ - 1.0⋅C_{L}⋅S⋅W⋅μ ⋅ρ - 0.5⋅T          ⎟                        ⎜       \n",
       "─────────────────────────────────────────────⎟ + 0.707106781186548⋅log⎜1.0⋅V(t\n",
       "                                             ⎠                        ⎝       \n",
       "                                                                              \n",
       "\n",
       "                                       _______________________________________\n",
       "                                      ╱                       -1              \n",
       "    1.4142135623731⋅C_{D}⋅S⋅W⋅μ⋅ρ⋅   ╱  ──────────────────────────────────────\n",
       "                                    ╱                                      2  \n",
       "                                  ╲╱    1.0⋅C_{D}⋅S⋅W⋅μ⋅ρ - 1.0⋅C_{L}⋅S⋅W⋅μ ⋅ρ\n",
       ") + ──────────────────────────────────────────────────────────────────────────\n",
       "                                                                              \n",
       "                                                                              \n",
       "\n",
       "__________                                       _____________________________\n",
       "                                        2       ╱                       -1    \n",
       "─────────  - 1.4142135623731⋅C_{L}⋅S⋅W⋅μ ⋅ρ⋅   ╱  ────────────────────────────\n",
       "        2                                     ╱                               \n",
       " - 0.5⋅T                                    ╲╱    1.0⋅C_{D}⋅S⋅W⋅μ⋅ρ - 1.0⋅C_{L\n",
       "──────────────────────────────────────────────────────────────────────────────\n",
       "                                        S⋅ρ⋅(1.0⋅C_{D} - 1.0⋅C_{L}⋅μ)         \n",
       "                                                                              \n",
       "\n",
       "____________________                             _____________________________\n",
       "                                          2     ╱                       -1    \n",
       "───────────────────  - 0.707106781186548⋅T ⋅   ╱  ────────────────────────────\n",
       "       2          2                           ╱                               \n",
       "}⋅S⋅W⋅μ ⋅ρ - 0.5⋅T                          ╲╱    1.0⋅C_{D}⋅S⋅W⋅μ⋅ρ - 1.0⋅C_{L\n",
       "──────────────────────────────────────────────────────────────────────────────\n",
       "                                                                              \n",
       "                                                                              \n",
       "\n",
       "____________________        ⎞⎞         \n",
       "                            ⎟⎟         \n",
       "───────────────────  - 1.0⋅T⎟⎟         \n",
       "       2          2         ⎟⎟         \n",
       "}⋅S⋅W⋅μ ⋅ρ - 0.5⋅T          ⎟⎟         \n",
       "────────────────────────────⎟⎟ = C₁ - t\n",
       "                            ⎠⎠         \n",
       "                                       "
      ]
     },
     "execution_count": 48,
     "metadata": {},
     "output_type": "execute_result"
    }
   ],
   "source": [
    "#Resolvendo EDO simbolicamente\n",
    "sol = dsolve(f)\n",
    "sol"
   ]
  },
  {
   "cell_type": "code",
   "execution_count": 51,
   "metadata": {},
   "outputs": [
    {
     "name": "stdout",
     "output_type": "stream",
     "text": [
      "            4           3          2\n",
      "-0.0006402 x + 0.03607 x - 0.6935 x + 5.662 x - 2.875\n"
     ]
    },
    {
     "data": {
      "image/png": "[encoded data removed]",
      "text/plain": [
       "<Figure size 432x288 with 1 Axes>"
      ]
     },
     "metadata": {
      "needs_background": "light"
     },
     "output_type": "display_data"
    }
   ],
   "source": [
    "#Função fit\n",
    "def fit(x, y, grau):\n",
    "    pol = np.polyfit(x, y, grau)\n",
    "    lista = []\n",
    "    for coef in pol:\n",
    "        lista.append(float(coef))\n",
    "    poly = np.poly1d(lista)\n",
    "    return poly\n",
    "\n",
    "#Condições iniciais\n",
    "qtd = 50\n",
    "t = np.linspace(0.5, 12, qtd)\n",
    "yO = 0\n",
    "\n",
    "#Resolvendo EDO numérica\n",
    "y = odeint(EDO_TakeOff, yO, t)\n",
    "\n",
    "#Aprox para polinômio\n",
    "pol = fit(t, y, 4)\n",
    "print(pol)\n",
    "\n",
    "#plots\n",
    "plt.plot(t, pol(t), label='Polinômio')\n",
    "plt.plot(t, y, label='EDO do anderson')\n",
    "plt.grid(linestyle='dotted')\n",
    "plt.legend()\n",
    "plt.show()"
   ]
  },
  {
   "cell_type": "code",
   "execution_count": 235,
   "metadata": {
    "scrolled": false
   },
   "outputs": [
    {
     "data": {
      "text/plain": [
       "array([4.83289686, 4.52902865, 4.23805848, 3.9597146 , 3.69372527,\n",
       "       3.43981874, 3.19772326, 2.96716709, 2.74787848, 2.53958569,\n",
       "       2.34201698, 2.15490059, 1.97796479, 1.81093782, 1.65354795,\n",
       "       1.50552342, 1.36659249, 1.23648341, 1.11492445, 1.00164385,\n",
       "       0.89636986, 0.79883075, 0.70875477, 0.62587017, 0.54990521,\n",
       "       0.48058814, 0.41764722, 0.36081069, 0.30980682, 0.26436387,\n",
       "       0.22421007, 0.18907369, 0.15868299, 0.13276621, 0.11105162,\n",
       "       0.09326747, 0.07914201, 0.06840349, 0.06078017, 0.05600031,\n",
       "       0.05379216, 0.05388397, 0.056004  , 0.05988051, 0.06524174,\n",
       "       0.07181596, 0.07933141, 0.08751636, 0.09609905, 0.10480774])"
      ]
     },
     "execution_count": 235,
     "metadata": {},
     "output_type": "execute_result"
    }
   ],
   "source": [
    "#Aceleração\n",
    "dvdt = derivative(pol, t, dx=1e-6)\n",
    "dvdt"
   ]
  },
  {
   "cell_type": "code",
   "execution_count": 54,
   "metadata": {},
   "outputs": [
    {
     "data": {
      "text/plain": [
       "array([8.36137728e-02, 4.26234831e-01, 1.01224258e+00, 1.82662779e+00,\n",
       "       2.85498166e+00, 4.08348488e+00, 5.49889669e+00, 7.08854393e+00,\n",
       "       8.84031012e+00, 1.07426245e+01, 1.27844510e+01, 1.49552777e+01,\n",
       "       1.72451052e+01, 1.96444362e+01, 2.21442646e+01, 2.47360642e+01,\n",
       "       2.74117780e+01, 3.01638072e+01, 3.29850002e+01, 3.58686417e+01,\n",
       "       3.88084421e+01, 4.17985258e+01, 4.48334210e+01, 4.79080482e+01,\n",
       "       5.10177099e+01, 5.41580790e+01, 5.73251881e+01, 6.05154188e+01,\n",
       "       6.37254903e+01, 6.69524491e+01, 7.01936573e+01, 7.34467822e+01,\n",
       "       7.67097852e+01, 7.99809108e+01, 8.32586759e+01, 8.65418583e+01,\n",
       "       8.98294866e+01, 9.31208284e+01, 9.64153799e+01, 9.97128550e+01,\n",
       "       1.03013174e+02, 1.06316452e+02, 1.09622991e+02, 1.12933265e+02,\n",
       "       1.16247910e+02, 1.19567717e+02, 1.22893614e+02, 1.26226662e+02,\n",
       "       1.29568040e+02])"
      ]
     },
     "execution_count": 54,
     "metadata": {},
     "output_type": "execute_result"
    }
   ],
   "source": [
    "# Spaço\n",
    "s = cumtrapz(pol(t), t)\n",
    "s"
   ]
  },
  {
   "cell_type": "markdown",
   "metadata": {},
   "source": [
    "## Flabagem de uma viga"
   ]
  },
  {
   "cell_type": "code",
   "execution_count": 55,
   "metadata": {},
   "outputs": [
    {
     "data": {
      "image/png": "[encoded data removed]",
      "text/latex": [
       "$\\displaystyle k^{2} u{\\left(x \\right)} + \\frac{d^{2}}{d x^{2}} u{\\left(x \\right)} = 0$"
      ],
      "text/plain": [
       "            2          \n",
       " 2         d           \n",
       "k ⋅u(x) + ───(u(x)) = 0\n",
       "            2          \n",
       "          dx           "
      ]
     },
     "execution_count": 55,
     "metadata": {},
     "output_type": "execute_result"
    }
   ],
   "source": [
    "u = Function('u')\n",
    "EDO1 = Eq(Derivative(u(x), x, x) + (k**2)*u(x), 0) \n",
    "EDO1"
   ]
  },
  {
   "cell_type": "code",
   "execution_count": 56,
   "metadata": {},
   "outputs": [
    {
     "data": {
      "image/png": "[encoded data removed]",
      "text/latex": [
       "$\\displaystyle u{\\left(x \\right)} = C_{1} e^{- i k x} + C_{2} e^{i k x}$"
      ],
      "text/plain": [
       "           -ⅈ⋅k⋅x       ⅈ⋅k⋅x\n",
       "u(x) = C₁⋅ℯ       + C₂⋅ℯ     "
      ]
     },
     "execution_count": 56,
     "metadata": {},
     "output_type": "execute_result"
    }
   ],
   "source": [
    "sol1 = dsolve(EDO1, u(x))\n",
    "sol1.simplify()"
   ]
  },
  {
   "cell_type": "markdown",
   "metadata": {},
   "source": [
    "## Sistema massa-mola"
   ]
  },
  {
   "cell_type": "code",
   "execution_count": 60,
   "metadata": {},
   "outputs": [
    {
     "data": {
      "image/png": "[encoded data removed]",
      "text/latex": [
       "$\\displaystyle c \\frac{d}{d x} y{\\left(x \\right)} + k x + m \\frac{d^{2}}{d x^{2}} y{\\left(x \\right)} = F \\cos{\\left(t w \\right)}$"
      ],
      "text/plain": [
       "                       2                   \n",
       "  d                   d                    \n",
       "c⋅──(y(x)) + k⋅x + m⋅───(y(x)) = F⋅cos(t⋅w)\n",
       "  dx                   2                   \n",
       "                     dx                    "
      ]
     },
     "execution_count": 60,
     "metadata": {},
     "output_type": "execute_result"
    }
   ],
   "source": [
    "from sympy.abc import *\n",
    "\n",
    "y = Function('y')\n",
    "EDO = Eq(m*Derivative(y(x), x, x) + c*Derivative(y(x), x) + k*x, F*cos(w*t)) \n",
    "sol = dsolve(EDO, y(x))\n",
    "\n",
    "EDO"
   ]
  },
  {
   "cell_type": "code",
   "execution_count": 61,
   "metadata": {},
   "outputs": [
    {
     "data": {
      "image/png": "[encoded data removed]",
      "text/latex": [
       "$\\displaystyle y{\\left(x \\right)} = C_{1} + C_{2} e^{- \\frac{c x}{m}} + \\frac{F x \\cos{\\left(t w \\right)}}{c} - \\frac{k x^{2}}{2 c} + \\frac{k m x}{c^{2}}$"
      ],
      "text/plain": [
       "                -c⋅x                               \n",
       "                ─────                     2        \n",
       "                  m     F⋅x⋅cos(t⋅w)   k⋅x    k⋅m⋅x\n",
       "y(x) = C₁ + C₂⋅ℯ      + ──────────── - ──── + ─────\n",
       "                             c         2⋅c       2 \n",
       "                                                c  "
      ]
     },
     "execution_count": 61,
     "metadata": {},
     "output_type": "execute_result"
    }
   ],
   "source": [
    "sol"
   ]
  },
  {
   "cell_type": "code",
   "execution_count": 62,
   "metadata": {},
   "outputs": [
    {
     "data": {
      "text/plain": [
       "'y{\\\\left(x \\\\right)} = C_{1} + C_{2} e^{- \\\\frac{c x}{m}} + \\\\frac{F x \\\\cos{\\\\left(t w \\\\right)}}{c} - \\\\frac{k x^{2}}{2 c} + \\\\frac{k m x}{c^{2}}'"
      ]
     },
     "execution_count": 62,
     "metadata": {},
     "output_type": "execute_result"
    }
   ],
   "source": [
    "latex(sol)"
   ]
  },
  {
   "cell_type": "markdown",
   "metadata": {},
   "source": [
    "## Tensores "
   ]
  },
  {
   "cell_type": "code",
   "execution_count": 78,
   "metadata": {},
   "outputs": [
    {
     "data": {
      "text/latex": [
       "$\\displaystyle \\left[\\begin{matrix}2 x^{4} & 3 x^{4} y & x^{3} z^{2}\\\\2 x^{2} y & 3 x^{2} y^{2} & x y z^{2}\\\\2 x z & 3 x y z & z^{3}\\end{matrix}\\right] = 0$"
      ],
      "text/plain": [
       "⎡    4      4      3  2 ⎤    \n",
       "⎢ 2⋅x    3⋅x ⋅y   x ⋅z  ⎥    \n",
       "⎢                       ⎥    \n",
       "⎢   2       2  2       2⎥    \n",
       "⎢2⋅x ⋅y  3⋅x ⋅y   x⋅y⋅z ⎥ = 0\n",
       "⎢                       ⎥    \n",
       "⎢                    3  ⎥    \n",
       "⎣2⋅x⋅z   3⋅x⋅y⋅z    z   ⎦    "
      ]
     },
     "execution_count": 78,
     "metadata": {},
     "output_type": "execute_result"
    }
   ],
   "source": [
    "from sympy.abc import *\n",
    "\n",
    "a1 = Array([[1, 2], [3, 4], [5, 6]])\n",
    "a2 = Array([[5, 3], [4, 2], [1, 4]])\n",
    "\n",
    "m1 = Array([x**3, x*y, z])\n",
    "m2 = Array([2*x, 3*x*y, z**2])\n",
    "m_dot = tensorproduct(m1, m2)\n",
    "\n",
    "Eq(m_dot, 0)"
   ]
  },
  {
   "cell_type": "code",
   "execution_count": 81,
   "metadata": {},
   "outputs": [
    {
     "data": {
      "image/png": "[encoded data removed]",
      "text/latex": [
       "$\\displaystyle d_{x}$"
      ],
      "text/plain": [
       "d_{x}"
      ]
     },
     "execution_count": 81,
     "metadata": {},
     "output_type": "execute_result"
    }
   ],
   "source": [
    "xx = symbols('d_{x}')\n",
    "xx"
   ]
  },
  {
   "cell_type": "code",
   "execution_count": 93,
   "metadata": {},
   "outputs": [],
   "source": []
  },
  {
   "cell_type": "code",
   "execution_count": 155,
   "metadata": {},
   "outputs": [
    {
     "data": {
      "text/latex": [
       "$\\displaystyle \\left( \\left[\\begin{matrix}R_{1}\\\\R_{2}\\\\R_{3}\\end{matrix}\\right], \\  \\left[\\begin{matrix}\\cos{\\left(\\phi_{1} \\right)} & - \\cos{\\left(\\psi_{1} \\right)} & 1\\\\\\cos{\\left(\\phi_{2} \\right)} & - \\cos{\\left(\\psi_{2} \\right)} & 1\\\\\\cos{\\left(\\phi_{3} \\right)} & - \\cos{\\left(\\psi_{3} \\right)} & 1\\end{matrix}\\right], \\  \\left[\\begin{matrix}\\cos{\\left(\\phi_{1} - \\psi_{1} \\right)}\\\\\\cos{\\left(\\phi_{2} - \\psi_{2} \\right)}\\\\\\cos{\\left(\\phi_{3} - \\psi_{3} \\right)}\\end{matrix}\\right]\\right)$"
      ],
      "text/plain": [
       "⎛⎡R_{1}⎤  ⎡cos(\\phi_{1})  -cos(\\psi_{1})  1⎤  ⎡cos(\\phi_{1} - \\psi_{1})⎤⎞\n",
       "⎜⎢     ⎥  ⎢                                ⎥  ⎢                        ⎥⎟\n",
       "⎜⎢R_{2}⎥, ⎢cos(\\phi_{2})  -cos(\\psi_{2})  1⎥, ⎢cos(\\phi_{2} - \\psi_{2})⎥⎟\n",
       "⎜⎢     ⎥  ⎢                                ⎥  ⎢                        ⎥⎟\n",
       "⎝⎣R_{3}⎦  ⎣cos(\\phi_{3})  -cos(\\psi_{3})  1⎦  ⎣cos(\\phi_{3} - \\psi_{3})⎦⎠"
      ]
     },
     "execution_count": 155,
     "metadata": {},
     "output_type": "execute_result"
    }
   ],
   "source": [
    "import numpy as np\n",
    "from sympy import *\n",
    "from sympy.abc import *\n",
    "from sympy.abc import * #não usar isso! Burro\n",
    "init_printing()\n",
    "\n",
    "r1, r2 , r3 = symbols('R_{1}  R_{2}  R_{3} ')\n",
    "\n",
    "psi = symbols('\\psi_{1} \\psi_{2} \\psi_{3}')\n",
    "phi = symbols('\\phi_{1} \\phi_{2} \\phi_{3}')\n",
    "\n",
    "x = Matrix([r1, r2, r3])\n",
    "\n",
    "A = Matrix([[cos(phi[0]), -cos(psi[0]), 1], \n",
    "           [cos(phi[1]), -cos(psi[1]), 1], \n",
    "           [cos(phi[2]), -cos(psi[2]), 1]])\n",
    "\n",
    "b = Matrix([[cos(phi[0] - psi[0])], \n",
    "            [cos(phi[1] - psi[1])], \n",
    "            [cos(phi[2] - psi[2])]])\n",
    "x, A, b"
   ]
  },
  {
   "cell_type": "code",
   "execution_count": 156,
   "metadata": {},
   "outputs": [
    {
     "data": {
      "text/latex": [
       "$\\displaystyle \\left[\\begin{matrix}R_{1} \\cos{\\left(\\phi_{1} \\right)} - R_{2} \\cos{\\left(\\psi_{1} \\right)} + R_{3}\\\\R_{1} \\cos{\\left(\\phi_{2} \\right)} - R_{2} \\cos{\\left(\\psi_{2} \\right)} + R_{3}\\\\R_{1} \\cos{\\left(\\phi_{3} \\right)} - R_{2} \\cos{\\left(\\psi_{3} \\right)} + R_{3}\\end{matrix}\\right] = \\left[\\begin{matrix}\\cos{\\left(\\phi_{1} - \\psi_{1} \\right)}\\\\\\cos{\\left(\\phi_{2} - \\psi_{2} \\right)}\\\\\\cos{\\left(\\phi_{3} - \\psi_{3} \\right)}\\end{matrix}\\right]$"
      ],
      "text/plain": [
       "⎡R_{1}⋅cos(\\phi_{1}) - R_{2}⋅cos(\\psi_{1}) + R_{3}⎤   ⎡cos(\\phi_{1} - \\psi_{1}\n",
       "⎢                                                 ⎥   ⎢                       \n",
       "⎢R_{1}⋅cos(\\phi_{2}) - R_{2}⋅cos(\\psi_{2}) + R_{3}⎥ = ⎢cos(\\phi_{2} - \\psi_{2}\n",
       "⎢                                                 ⎥   ⎢                       \n",
       "⎣R_{1}⋅cos(\\phi_{3}) - R_{2}⋅cos(\\psi_{3}) + R_{3}⎦   ⎣cos(\\phi_{3} - \\psi_{3}\n",
       "\n",
       ")⎤\n",
       " ⎥\n",
       ")⎥\n",
       " ⎥\n",
       ")⎦"
      ]
     },
     "execution_count": 156,
     "metadata": {},
     "output_type": "execute_result"
    }
   ],
   "source": [
    "Eq(A*x, b, evaluate=False)"
   ]
  },
  {
   "cell_type": "code",
   "execution_count": 163,
   "metadata": {},
   "outputs": [
    {
     "data": {
      "text/latex": [
       "$\\displaystyle \\left( \\left[\\begin{matrix}-0.0399050814846968 & -0.808246892384353 & 1\\\\-0.5 & -0.258819045102521 & 1\\\\-0.985446492428912 & 0.40554046674354 & 1\\end{matrix}\\right], \\  \\left[\\begin{matrix}0.556121562320388\\\\0.707106781186548\\\\0.555018659341506\\end{matrix}\\right]\\right)$"
      ],
      "text/plain": [
       "⎛⎡-0.0399050814846968  -0.808246892384353  1⎤  ⎡0.556121562320388⎤⎞\n",
       "⎜⎢                                          ⎥  ⎢                 ⎥⎟\n",
       "⎜⎢       -0.5          -0.258819045102521  1⎥, ⎢0.707106781186548⎥⎟\n",
       "⎜⎢                                          ⎥  ⎢                 ⎥⎟\n",
       "⎝⎣-0.985446492428912    0.40554046674354   1⎦  ⎣0.555018659341506⎦⎠"
      ]
     },
     "execution_count": 163,
     "metadata": {},
     "output_type": "execute_result"
    }
   ],
   "source": [
    "phi_n = [92.287, 120, 170.213]\n",
    "psi_n = [36.075, 75, 113.925]\n",
    "\n",
    "phi_n = np.radians(phi_n)\n",
    "psi_n = np.radians(psi_n)  \n",
    "\n",
    "A.subs([(phi, phi_n), (psi, psi_n)])\n",
    "\n",
    "A, b"
   ]
  },
  {
   "cell_type": "code",
   "execution_count": 164,
   "metadata": {},
   "outputs": [
    {
     "data": {
      "text/latex": [
       "$\\displaystyle \\left[\\begin{matrix}- 0.0399 R_{1} - 0.808 R_{2} + R_{3}\\\\- 0.5 R_{1} - 0.259 R_{2} + R_{3}\\\\- 0.985 R_{1} + 0.406 R_{2} + R_{3}\\end{matrix}\\right] = \\left[\\begin{matrix}0.556\\\\0.707\\\\0.555\\end{matrix}\\right]$"
      ],
      "text/plain": [
       "⎡-0.0399⋅R_{1} - 0.808⋅R_{2} + R_{3}⎤   ⎡0.556⎤\n",
       "⎢                                   ⎥   ⎢     ⎥\n",
       "⎢ -0.5⋅R_{1} - 0.259⋅R_{2} + R_{3}  ⎥ = ⎢0.707⎥\n",
       "⎢                                   ⎥   ⎢     ⎥\n",
       "⎣-0.985⋅R_{1} + 0.406⋅R_{2} + R_{3} ⎦   ⎣0.555⎦"
      ]
     },
     "execution_count": 164,
     "metadata": {},
     "output_type": "execute_result"
    }
   ],
   "source": [
    "Eq((A*x).evalf(3), b.evalf(3), evaluate=False)"
   ]
  },
  {
   "cell_type": "code",
   "execution_count": 165,
   "metadata": {},
   "outputs": [
    {
     "data": {
      "text/latex": [
       "$\\displaystyle \\left[\\begin{matrix}R_{1}\\\\R_{2}\\\\R_{3}\\end{matrix}\\right] = \\left[\\begin{matrix}-4.72\\\\-3.68\\\\-2.6\\end{matrix}\\right]$"
      ],
      "text/plain": [
       "⎡R_{1}⎤   ⎡-4.72⎤\n",
       "⎢     ⎥   ⎢     ⎥\n",
       "⎢R_{2}⎥ = ⎢-3.68⎥\n",
       "⎢     ⎥   ⎢     ⎥\n",
       "⎣R_{3}⎦   ⎣-2.6 ⎦"
      ]
     },
     "execution_count": 165,
     "metadata": {},
     "output_type": "execute_result"
    }
   ],
   "source": [
    "Eq(x, (A.inv()*b).evalf(3))"
   ]
  },
  {
   "cell_type": "code",
   "execution_count": null,
   "metadata": {},
   "outputs": [],
   "source": []
  },
  {
   "cell_type": "code",
   "execution_count": null,
   "metadata": {},
   "outputs": [],
   "source": []
  }
 ],
 "metadata": {
  "kernelspec": {
   "display_name": "Python 3",
   "language": "python",
   "name": "python3"
  },
  "language_info": {
   "codemirror_mode": {
    "name": "ipython",
    "version": 3
   },
   "file_extension": ".py",
   "mimetype": "text/x-python",
   "name": "python",
   "nbconvert_exporter": "python",
   "pygments_lexer": "ipython3",
   "version": "3.8.5"
  }
 },
 "nbformat": 4,
 "nbformat_minor": 4
}
