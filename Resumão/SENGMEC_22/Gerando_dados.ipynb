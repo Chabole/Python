{
 "cells": [
  {
   "cell_type": "code",
   "execution_count": 16,
   "id": "3590e259",
   "metadata": {},
   "outputs": [
    {
     "data": {
      "text/plain": [
       "<matplotlib.collections.PathCollection at 0x1daa230e9d0>"
      ]
     },
     "execution_count": 16,
     "metadata": {},
     "output_type": "execute_result"
    },
    {
     "data": {
      "image/png": "[encoded data removed]",
      "text/plain": [
       "<Figure size 432x288 with 1 Axes>"
      ]
     },
     "metadata": {
      "needs_background": "light"
     },
     "output_type": "display_data"
    }
   ],
   "source": [
    "import numpy as np\n",
    "import matplotlib.pyplot as plt\n",
    "import pandas as pd\n",
    "\n",
    "n = 0.1\n",
    "x = np.linspace(0, 7, 150)\n",
    "\n",
    "def formula(x):\n",
    "    return np.sin(x*5)*x \n",
    "\n",
    "'''def formula(x):\n",
    "    return 2*x + 5 \n",
    "'''\n",
    "\n",
    "x_new = np.zeros(len(x))\n",
    "for i in range(len(x)):\n",
    "    err_x = np.random.uniform(-n, n)\n",
    "    x_new[i] = ((x[i] + err_x))\n",
    "\n",
    "y = formula(x_new)\n",
    "plt.scatter(x, y)"
   ]
  },
  {
   "cell_type": "code",
   "execution_count": 8,
   "id": "da26f45c",
   "metadata": {},
   "outputs": [],
   "source": [
    "df = pd.DataFrame({'x':x, 'y':y})\n",
    "df.to_excel('dados_pendulo.xlsx')"
   ]
  },
  {
   "cell_type": "code",
   "execution_count": null,
   "id": "aac208cb",
   "metadata": {},
   "outputs": [],
   "source": [
    "def array_incert(lista_nominal, lista_incert):\n",
    "    \n",
    "    if type(lista_incert) == float: \n",
    "        val = lista_incert\n",
    "        lista_incert = np.full(len(lista_nominal), val)\n",
    "\n",
    "    array_err = []\n",
    "    for nom, inc in zip(lista_nominal, lista_incert):\n",
    "        array_err.append(ufloat(nom, inc))\n",
    "    return (array_err)"
   ]
  },
  {
   "cell_type": "code",
   "execution_count": null,
   "id": "8c30d6e5",
   "metadata": {},
   "outputs": [],
   "source": [
    "x = np.linspace(0, 10)\n",
    "\n",
    "y = []\n",
    "for i in range(len(x)):\n",
    "    y.append(np.sin(-0.5*x[i]) + np.random.uniform(-1, 1))\n",
    "    \n",
    "plt.scatter(x, y)"
   ]
  }
 ],
 "metadata": {
  "kernelspec": {
   "display_name": "Python 3 (ipykernel)",
   "language": "python",
   "name": "python3"
  },
  "language_info": {
   "codemirror_mode": {
    "name": "ipython",
    "version": 3
   },
   "file_extension": ".py",
   "mimetype": "text/x-python",
   "name": "python",
   "nbconvert_exporter": "python",
   "pygments_lexer": "ipython3",
   "version": "3.8.8"
  }
 },
 "nbformat": 4,
 "nbformat_minor": 5
}
