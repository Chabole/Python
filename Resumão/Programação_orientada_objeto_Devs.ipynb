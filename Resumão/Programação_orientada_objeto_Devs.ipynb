{
 "cells": [
  {
   "cell_type": "markdown",
   "metadata": {},
   "source": [
    "Restropectiva sobre **funções**. Digamos, que tenhamos duas funções relacionadas."
   ]
  },
  {
   "cell_type": "code",
   "execution_count": null,
   "metadata": {},
   "outputs": [],
   "source": [
    "#Calculo do alongamento\n",
    "def AR(b, S):\n",
    "    y = b**2 / S\n",
    "    return y\n",
    "\n",
    "#Cálculo do arrasto\n",
    "def C_Di(b, S, CL):\n",
    "    e = 0.8 #simplificação\n",
    "    return CL**2 / np.pi*e*AR(b, S)"
   ]
  },
  {
   "cell_type": "markdown",
   "metadata": {},
   "source": [
    "A uma primeira vista as duas funções atende muito bem as necessidades. Contudo, e se em algum lugar do código principal precisarmos acessar a variável local **b** da função *AR()* ? NÃO podemos uma vez que as variável locais não são acessadas fora da função *AR()*. Esse problema não é tão impactante pra esse caso em específico, mas imagine criar várias funções que descreva o comportamento do avião e em um dado movimento vc precise de uma informação específica que já foi calcula, mas está dentro de uma função e vc não pode acessa-lá!. A **comunicação entre as funções é nula** e principalmente o **fluxo de informação do código é muito prejudicado**.  "
   ]
  },
  {
   "cell_type": "markdown",
   "metadata": {},
   "source": [
    "Antes de tudo precisamos entender que tudo em python é um **objeto (instância de uma classe)**. Então, vc já usa programação orientada a objeto em python o tempo todo, só não sabe. Um exemplo, simples são as classes *int* e *string*. "
   ]
  },
  {
   "cell_type": "code",
   "execution_count": 23,
   "metadata": {},
   "outputs": [
    {
     "name": "stdout",
     "output_type": "stream",
     "text": [
      "<class 'int'>\n"
     ]
    }
   ],
   "source": [
    "#Tudo em python é uma classe\n",
    "numero = 60\n",
    "\n",
    "print(type(numero))"
   ]
  },
  {
   "cell_type": "markdown",
   "metadata": {},
   "source": [
    "Um objeto possui **atributos** e seus **métodos**. Atributos são os **dados** que pertence ao objeto e os **métodos** são as \"ações\" são possiveis de se realizar. Vamos ver um exemplo da classe \"array\", iremos criar um objeto com atributos (valores internos) e aplicar a esses valores seus métodos disponíveis."
   ]
  },
  {
   "cell_type": "code",
   "execution_count": 28,
   "metadata": {},
   "outputs": [
    {
     "data": {
      "text/plain": [
       "54"
      ]
     },
     "execution_count": 28,
     "metadata": {},
     "output_type": "execute_result"
    }
   ],
   "source": [
    "import numpy as np\n",
    "\n",
    "#Definindo os atributos do objeto\n",
    "lista = np.array((1, 23, 4, 7, 9, 10))\n",
    "\n",
    "#Método que soma os valores internos\n",
    "lista.sum()\n",
    "\n"
   ]
  },
  {
   "cell_type": "markdown",
   "metadata": {},
   "source": [
    "A grande pergunta a agora é **como programamos nossas próprias classes ?**"
   ]
  },
  {
   "cell_type": "code",
   "execution_count": 6,
   "metadata": {},
   "outputs": [
    {
     "ename": "TypeError",
     "evalue": "unsupported operand type(s) for -: 'str' and 'int'",
     "output_type": "error",
     "traceback": [
      "\u001b[1;31m---------------------------------------------------------------------------\u001b[0m",
      "\u001b[1;31mTypeError\u001b[0m                                 Traceback (most recent call last)",
      "\u001b[1;32m~\\AppData\\Local\\Temp/ipykernel_49156/2253812986.py\u001b[0m in \u001b[0;36m<module>\u001b[1;34m\u001b[0m\n\u001b[0;32m      2\u001b[0m \u001b[0mB\u001b[0m \u001b[1;33m=\u001b[0m \u001b[1;36m2\u001b[0m\u001b[1;33m\u001b[0m\u001b[1;33m\u001b[0m\u001b[0m\n\u001b[0;32m      3\u001b[0m \u001b[1;33m\u001b[0m\u001b[0m\n\u001b[1;32m----> 4\u001b[1;33m \u001b[0mprint\u001b[0m\u001b[1;33m(\u001b[0m\u001b[0mA\u001b[0m\u001b[1;33m-\u001b[0m \u001b[0mB\u001b[0m\u001b[1;33m)\u001b[0m\u001b[1;33m\u001b[0m\u001b[1;33m\u001b[0m\u001b[0m\n\u001b[0m",
      "\u001b[1;31mTypeError\u001b[0m: unsupported operand type(s) for -: 'str' and 'int'"
     ]
    }
   ],
   "source": [
    "A = 'arthur' #3\n",
    "B = 2\n",
    "\n",
    "print(A - B)"
   ]
  },
  {
   "cell_type": "code",
   "execution_count": 50,
   "metadata": {},
   "outputs": [],
   "source": [
    "class vector:\n",
    "\n",
    "    c = 0\n",
    "\n",
    "    def __init__(self, a, b):\n",
    "        self.a = a\n",
    "        self.b = b\n",
    "        vector.c += 1\n",
    "\n",
    "    def conta(self):\n",
    "        return self.a + self.b "
   ]
  },
  {
   "cell_type": "code",
   "execution_count": 51,
   "metadata": {},
   "outputs": [
    {
     "data": {
      "text/plain": [
       "8"
      ]
     },
     "execution_count": 51,
     "metadata": {},
     "output_type": "execute_result"
    }
   ],
   "source": [
    "vector.a = 3\n",
    "vector.b = 5\n",
    "\n",
    "vector.conta(vector)"
   ]
  },
  {
   "cell_type": "code",
   "execution_count": 52,
   "metadata": {},
   "outputs": [
    {
     "data": {
      "text/plain": [
       "10"
      ]
     },
     "execution_count": 52,
     "metadata": {},
     "output_type": "execute_result"
    }
   ],
   "source": [
    "v = vector(4, 6)\n",
    "v.conta()"
   ]
  },
  {
   "cell_type": "code",
   "execution_count": null,
   "metadata": {},
   "outputs": [],
   "source": [
    "class desvio:\n",
    "    def __init__(self, a, b):\n",
    "        "
   ]
  }
 ],
 "metadata": {
  "interpreter": {
   "hash": "894588d70223105318f3a6143f469ff55b12e3d45628534b2f37efc006a33ec3"
  },
  "kernelspec": {
   "display_name": "Python 3.8.8 ('base')",
   "language": "python",
   "name": "python3"
  },
  "language_info": {
   "codemirror_mode": {
    "name": "ipython",
    "version": 3
   },
   "file_extension": ".py",
   "mimetype": "text/x-python",
   "name": "python",
   "nbconvert_exporter": "python",
   "pygments_lexer": "ipython3",
   "version": "3.8.8"
  },
  "orig_nbformat": 4
 },
 "nbformat": 4,
 "nbformat_minor": 2
}
