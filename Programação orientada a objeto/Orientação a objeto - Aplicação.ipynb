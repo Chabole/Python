{
 "cells": [
  {
   "cell_type": "markdown",
   "metadata": {},
   "source": [
    "# Insights programação orientada a objeto "
   ]
  },
  {
   "cell_type": "code",
   "execution_count": null,
   "metadata": {},
   "outputs": [],
   "source": [
    "#Equipe Zebra aerodesign UNESP_FEIS\n",
    "# __Version__ : 0.0.1\n",
    "# __Release__: Arthur Chabole 13/05/21"
   ]
  },
  {
   "cell_type": "markdown",
   "metadata": {},
   "source": [
    "- Meu GitHub com ajudas e códigos: https://github.com/Chabole \n",
    "- Críticas e sugestões: arthur.chabole@unesp.br"
   ]
  },
  {
   "cell_type": "code",
   "execution_count": null,
   "metadata": {},
   "outputs": [],
   "source": []
  }
 ],
 "metadata": {
  "kernelspec": {
   "display_name": "Python 3",
   "language": "python",
   "name": "python3"
  },
  "language_info": {
   "codemirror_mode": {
    "name": "ipython",
    "version": 3
   },
   "file_extension": ".py",
   "mimetype": "text/x-python",
   "name": "python",
   "nbconvert_exporter": "python",
   "pygments_lexer": "ipython3",
   "version": "3.8.5"
  }
 },
 "nbformat": 4,
 "nbformat_minor": 4
}
