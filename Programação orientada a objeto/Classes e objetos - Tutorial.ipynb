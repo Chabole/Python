{
 "cells": [
  {
   "cell_type": "markdown",
   "metadata": {},
   "source": [
    "# Insights classes e objetos - equipe Zebra 2021\n",
    "\n"
   ]
  },
  {
   "cell_type": "code",
   "execution_count": 180,
   "metadata": {},
   "outputs": [
    {
     "data": {
      "text/plain": [
       "'Este algoritmo é um resumo dos principais conceitos de programação orientada a objeto.'"
      ]
     },
     "execution_count": 180,
     "metadata": {},
     "output_type": "execute_result"
    }
   ],
   "source": [
    "# __Version__ : 0.0.1\n",
    "# __Release__: Arthur Chabole 04/05/21\n",
    "\n",
    "'''Este algoritmo é um resumo dos principais conceitos de programação orientada a objeto.'''"
   ]
  },
  {
   "cell_type": "code",
   "execution_count": 42,
   "metadata": {},
   "outputs": [],
   "source": [
    "#importando bibliotecas\n",
    "import numpy as np\n",
    "import matplotlib.pyplot as plt"
   ]
  },
  {
   "cell_type": "markdown",
   "metadata": {},
   "source": [
    "#  Revisão de funções"
   ]
  },
  {
   "cell_type": "markdown",
   "metadata": {},
   "source": [
    "Em python uma função pode ser o argumento de outra função. Ou o retorno de uma determinada função pode ser outra função."
   ]
  },
  {
   "cell_type": "code",
   "execution_count": 208,
   "metadata": {},
   "outputs": [],
   "source": [
    "#função sendo usada como argumento de outra função\n",
    "def soma_1(x):\n",
    "    return x + 1\n",
    "\n",
    "def subt_1(x):\n",
    "    return x - 1\n",
    "\n",
    "def calculadora(operação, x): #Usando a função operação dentro do argumento da função calculadora \n",
    "    resultado = operação(x)\n",
    "    return resultado"
   ]
  },
  {
   "cell_type": "code",
   "execution_count": 219,
   "metadata": {},
   "outputs": [
    {
     "name": "stdout",
     "output_type": "stream",
     "text": [
      "result_1= 6, result_2= 9\n"
     ]
    }
   ],
   "source": [
    "#Usando as funções\n",
    "result_1 = calculadora(soma_1, 5)\n",
    "result_2 = calculadora(subt_1, 10)\n",
    "\n",
    "print(f'result_1= {result_1}, result_2= {result_2}')"
   ]
  },
  {
   "cell_type": "markdown",
   "metadata": {},
   "source": [
    "Uma função retornando outra função"
   ]
  },
  {
   "cell_type": "code",
   "execution_count": 240,
   "metadata": {},
   "outputs": [],
   "source": [
    "#Composição de funções\n",
    "def chamada_telefone(responder: bool): #Só aceita valores True ou False (valor booleano)\n",
    "    if responder:\n",
    "        def aceitar():\n",
    "            print('Alô, Quem fala ?')\n",
    "            return None  #Retorno da função aceitar() \n",
    "        return aceitar() #Retorno da função chamada_telefone() \n",
    "    else:\n",
    "        def desligar():\n",
    "            print('Chamada perdida :(')\n",
    "            return None  #Mostrar que a função aceitar() não retorna nada só 'printa'\n",
    "        return desligar()"
   ]
  },
  {
   "cell_type": "code",
   "execution_count": 241,
   "metadata": {},
   "outputs": [
    {
     "name": "stdout",
     "output_type": "stream",
     "text": [
      "Alô, Quem fala ?\n",
      "Chamada perdida :(\n"
     ]
    }
   ],
   "source": [
    "#Usando a composição de funções. função chamada_telefone()\n",
    "aceitando_ligação = chamada_telefone(True)\n",
    "Recusando_ligação = chamada_telefone(False)"
   ]
  },
  {
   "cell_type": "markdown",
   "metadata": {},
   "source": [
    "Uma função sendo usada no corpo de uma outra funcão"
   ]
  },
  {
   "cell_type": "code",
   "execution_count": 242,
   "metadata": {},
   "outputs": [],
   "source": [
    "#função pessoa\n",
    "def pessoa(meu_nome, meu_sobrenome, minha_idade):\n",
    "    email = f'{meu_nome}.{meu_sobrenome}@unesp.br'\n",
    "    nova_idade = fazer_aniversário(minha_idade)   #usando a função aniversário dentro da função pessoa\n",
    "    return email, nova_idade #Retornando 2 parâmetros\n",
    "\n",
    "#função fazer aniversário\n",
    "def fazer_aniversário(idade):\n",
    "    idade += 1\n",
    "    return idade    "
   ]
  },
  {
   "cell_type": "code",
   "execution_count": 243,
   "metadata": {},
   "outputs": [
    {
     "name": "stdout",
     "output_type": "stream",
     "text": [
      "email: Arthur.Chabole@unesp.br, com 22 anos\n"
     ]
    }
   ],
   "source": [
    "#Usando a função pessoa\n",
    "email, idade = pessoa('Arthur', 'Chabole', 21)\n",
    "\n",
    "#Usando a função aniversário\n",
    "minha_idade = fazer_aniversário(25)\n",
    "\n",
    "#Ver as variavéis retornadas da função\n",
    "print(f'email: {email}, com {idade} anos')"
   ]
  },
  {
   "cell_type": "markdown",
   "metadata": {},
   "source": [
    "## Diferença entre variáveis locais e globais "
   ]
  },
  {
   "cell_type": "markdown",
   "metadata": {},
   "source": [
    "Acessando variáveis globais código"
   ]
  },
  {
   "cell_type": "code",
   "execution_count": 244,
   "metadata": {},
   "outputs": [
    {
     "name": "stdout",
     "output_type": "stream",
     "text": [
      "26\n",
      "Arthur.Chabole@unesp.br\n"
     ]
    }
   ],
   "source": [
    "print(minha_idade)\n",
    "print(email)"
   ]
  },
  {
   "cell_type": "markdown",
   "metadata": {},
   "source": [
    "Não conseguimos acessar as variáveis internas (locais) das funções, mas podemos de objetos. Exemplo:"
   ]
  },
  {
   "cell_type": "code",
   "execution_count": 245,
   "metadata": {},
   "outputs": [
    {
     "ename": "NameError",
     "evalue": "name 'meu_nome' is not defined",
     "output_type": "error",
     "traceback": [
      "\u001b[1;31m---------------------------------------------------------------------------\u001b[0m",
      "\u001b[1;31mNameError\u001b[0m                                 Traceback (most recent call last)",
      "\u001b[1;32m<ipython-input-245-e399e051c2d5>\u001b[0m in \u001b[0;36m<module>\u001b[1;34m\u001b[0m\n\u001b[1;32m----> 1\u001b[1;33m \u001b[0mprint\u001b[0m\u001b[1;33m(\u001b[0m\u001b[0mmeu_nome\u001b[0m\u001b[1;33m,\u001b[0m \u001b[0mnova_idade\u001b[0m\u001b[1;33m)\u001b[0m\u001b[1;33m\u001b[0m\u001b[1;33m\u001b[0m\u001b[0m\n\u001b[0m",
      "\u001b[1;31mNameError\u001b[0m: name 'meu_nome' is not defined"
     ]
    }
   ],
   "source": [
    "print(meu_nome, nova_idade)"
   ]
  },
  {
   "cell_type": "markdown",
   "metadata": {},
   "source": [
    "## Tudo em python é um objeto de uma determinada classe "
   ]
  },
  {
   "cell_type": "markdown",
   "metadata": {},
   "source": [
    "Até as funções acima são 'tratadas' como objeto de uma classe"
   ]
  },
  {
   "cell_type": "code",
   "execution_count": 44,
   "metadata": {},
   "outputs": [
    {
     "name": "stdout",
     "output_type": "stream",
     "text": [
      "<class 'function'>\n",
      "<class 'function'>\n"
     ]
    }
   ],
   "source": [
    "#Vendo tipo das funções\n",
    "print(type(pessoa))\n",
    "print(type(fazer_aniversário))"
   ]
  },
  {
   "cell_type": "markdown",
   "metadata": {},
   "source": [
    "def pessoa e def fazer_aniversário são na verdade uma classe 'function' dentro de python"
   ]
  },
  {
   "cell_type": "markdown",
   "metadata": {},
   "source": [
    "# Criando sua primeira classe "
   ]
  },
  {
   "cell_type": "code",
   "execution_count": 2,
   "metadata": {},
   "outputs": [],
   "source": [
    "#Criando sua classe\n",
    "class Pessoa():\n",
    "    \n",
    "    #Método construtor da classe Pessoa\n",
    "    def __init__(self, nome, sobrenome, idade, altura, humor):\n",
    "        self.nome = nome\n",
    "        self.sobrenome = sobrenome\n",
    "        self.idade = idade           #Atributos\n",
    "        self.altura = altura\n",
    "        self.humor = humor\n",
    "                                 \n",
    "    def aniversário(self):\n",
    "        self.idade += 1\n",
    "        self.humor = 'feliz'\n",
    "    \n",
    "    def crescer_15cm(self):          #Métodos\n",
    "        self.altura += 0.15\n",
    "        \n",
    "    def crescer_Xcm(self, cm):\n",
    "        self.altura += (cm/100)\n",
    "    \n",
    "    def criar_Email(self):\n",
    "        self.email = f'{self.nome}.{self.sobrenome}@unesp.br'\n",
    "    \n",
    "    def apresentar(self):\n",
    "        print(f'A Pessoa {self.nome} tem {self.idade} anos, {round(self.altura,2)}m e está {self.humor} ')"
   ]
  },
  {
   "cell_type": "code",
   "execution_count": 14,
   "metadata": {},
   "outputs": [
    {
     "name": "stdout",
     "output_type": "stream",
     "text": [
      "<class '__main__.Pessoa'>\n"
     ]
    }
   ],
   "source": [
    "#Tipo da classe Pessoa\n",
    "print(Pessoa)"
   ]
  },
  {
   "cell_type": "markdown",
   "metadata": {},
   "source": [
    "## Instanciando e modificando o objeto da classe Pessoa"
   ]
  },
  {
   "cell_type": "code",
   "execution_count": 15,
   "metadata": {},
   "outputs": [],
   "source": [
    "#Instânciando o objeto\n",
    "p1 = Pessoa('Arthur', 'Chabole', 21, 1.86, 'feliz')"
   ]
  },
  {
   "cell_type": "code",
   "execution_count": 16,
   "metadata": {},
   "outputs": [
    {
     "name": "stdout",
     "output_type": "stream",
     "text": [
      "<__main__.Pessoa object at 0x0000024745BEF280>\n"
     ]
    }
   ],
   "source": [
    "#Tipo do objeto Pessoa\n",
    "print(p1)"
   ]
  },
  {
   "cell_type": "code",
   "execution_count": 17,
   "metadata": {},
   "outputs": [
    {
     "name": "stdout",
     "output_type": "stream",
     "text": [
      "Nome: Arthur\n",
      "Sobrenome: Chabole\n",
      "Idade: 21\n",
      "Altura: 1.86\n",
      "Humor: feliz\n"
     ]
    }
   ],
   "source": [
    "#Acesando atributos do objeto p1\n",
    "Nome = p1.nome\n",
    "Sobrenome = p1.sobrenome\n",
    "Idade = p1.idade\n",
    "Altura = p1.altura\n",
    "Humor = p1.humor\n",
    "\n",
    "#Usando f String\n",
    "print(f'Nome: {Nome}')\n",
    "print(f'Sobrenome: {Sobrenome}')\n",
    "print(f'Idade: {Idade}')\n",
    "print(f'Altura: {Altura}')\n",
    "print(f'Humor: {Humor}')"
   ]
  },
  {
   "cell_type": "code",
   "execution_count": 27,
   "metadata": {},
   "outputs": [
    {
     "name": "stdout",
     "output_type": "stream",
     "text": [
      "Nome: Rafael\n",
      "Sobrenome: Chabole\n",
      "Idade: 6\n",
      "Altura: 1.25\n",
      "Humor: feliz\n"
     ]
    }
   ],
   "source": [
    "# Alterando atributos do objeto p1\n",
    "p1.nome = 'Rafael'\n",
    "p1.idade = 6\n",
    "p1.altura = 1.25\n",
    "\n",
    "#Usando f String\n",
    "print(f'Nome: {p1.nome}')\n",
    "print(f'Sobrenome: {p1.sobrenome}')\n",
    "print(f'Idade: {p1.idade}')\n",
    "print(f'Altura: {p1.altura}')\n",
    "print(f'Humor: {p1.humor}')"
   ]
  },
  {
   "cell_type": "markdown",
   "metadata": {},
   "source": [
    "# Aplicando os métodos da classe"
   ]
  },
  {
   "cell_type": "markdown",
   "metadata": {},
   "source": [
    "Diferença entre atributos e métodos"
   ]
  },
  {
   "cell_type": "code",
   "execution_count": 19,
   "metadata": {},
   "outputs": [
    {
     "ename": "AttributeError",
     "evalue": "'Pessoa' object has no attribute 'email'",
     "output_type": "error",
     "traceback": [
      "\u001b[1;31m---------------------------------------------------------------------------\u001b[0m",
      "\u001b[1;31mAttributeError\u001b[0m                            Traceback (most recent call last)",
      "\u001b[1;32m<ipython-input-19-959a056ad6aa>\u001b[0m in \u001b[0;36m<module>\u001b[1;34m\u001b[0m\n\u001b[1;32m----> 1\u001b[1;33m \u001b[0mp1\u001b[0m\u001b[1;33m.\u001b[0m\u001b[0memail\u001b[0m   \u001b[1;31m#Atributos\u001b[0m\u001b[1;33m\u001b[0m\u001b[1;33m\u001b[0m\u001b[0m\n\u001b[0m",
      "\u001b[1;31mAttributeError\u001b[0m: 'Pessoa' object has no attribute 'email'"
     ]
    }
   ],
   "source": [
    "p1.email   #Atributo"
   ]
  },
  {
   "cell_type": "markdown",
   "metadata": {},
   "source": [
    "Erro pois o atributo email do objeto só é criado após a execução da método email(). Assim, o atributo email do objeto p1 ainda não existe."
   ]
  },
  {
   "cell_type": "code",
   "execution_count": 24,
   "metadata": {},
   "outputs": [],
   "source": [
    "p1.criar_Email() #Método"
   ]
  },
  {
   "cell_type": "code",
   "execution_count": 25,
   "metadata": {},
   "outputs": [
    {
     "data": {
      "text/plain": [
       "'Rafael.Chabole@unesp.br'"
      ]
     },
     "execution_count": 25,
     "metadata": {},
     "output_type": "execute_result"
    }
   ],
   "source": [
    "p1.email   #Atributo"
   ]
  },
  {
   "cell_type": "code",
   "execution_count": 23,
   "metadata": {},
   "outputs": [
    {
     "name": "stdout",
     "output_type": "stream",
     "text": [
      "A Pessoa Rafael tem 6 anos, 1.25m e está feliz \n"
     ]
    }
   ],
   "source": [
    "p1.apresentar() #Método"
   ]
  },
  {
   "cell_type": "markdown",
   "metadata": {},
   "source": [
    "## Modificando o objeto  p1"
   ]
  },
  {
   "cell_type": "code",
   "execution_count": 38,
   "metadata": {},
   "outputs": [
    {
     "name": "stdout",
     "output_type": "stream",
     "text": [
      "A Pessoa Rafael tem 6 anos, 1.4m e está feliz \n"
     ]
    }
   ],
   "source": [
    "#Métodos\n",
    "p1.crescer_15cm()\n",
    "\n",
    "p1.apresentar()"
   ]
  },
  {
   "cell_type": "code",
   "execution_count": 39,
   "metadata": {},
   "outputs": [
    {
     "name": "stdout",
     "output_type": "stream",
     "text": [
      "A Pessoa Rafael tem 6 anos, 1.45m e está feliz \n"
     ]
    }
   ],
   "source": [
    "#Métodos\n",
    "p1.crescer_Xcm(5)\n",
    "\n",
    "p1.apresentar()"
   ]
  },
  {
   "cell_type": "code",
   "execution_count": 40,
   "metadata": {},
   "outputs": [
    {
     "name": "stdout",
     "output_type": "stream",
     "text": [
      "A Pessoa Rafael tem 7 anos, 1.45m e está feliz \n"
     ]
    }
   ],
   "source": [
    "#Métodos\n",
    "p1.aniversário()\n",
    "\n",
    "p1.apresentar()"
   ]
  },
  {
   "cell_type": "markdown",
   "metadata": {},
   "source": [
    "## Construindo objetos a partir de array's com iteradores"
   ]
  },
  {
   "cell_type": "code",
   "execution_count": 91,
   "metadata": {},
   "outputs": [
    {
     "data": {
      "text/plain": [
       "[<__main__.Pessoa at 0x1f6da3c0880>,\n",
       " <__main__.Pessoa at 0x1f6da3c08e0>,\n",
       " <__main__.Pessoa at 0x1f6da3c0250>,\n",
       " <__main__.Pessoa at 0x1f6da3c0d90>]"
      ]
     },
     "execution_count": 91,
     "metadata": {},
     "output_type": "execute_result"
    }
   ],
   "source": [
    "#Informações que queremos construir\n",
    "nomes = np.array(('Arthur', 'Gabriel', 'Maria', 'Thiago'))\n",
    "sobrenomes = np.array(('Chabole', 'Messias', 'Alcantara','Cacique'))\n",
    "idades = np.array((21, 20, 20, 23))\n",
    "alturas = np.array((1.86, 1.80, 1.7, 1.82))\n",
    "humores = np.array(('Feliz', 'Neutro', 'Triste', 'Neutro'))\n",
    "\n",
    "#Iterando \n",
    "pessoas = []\n",
    "for (nome, sobrenome, idade, altura, humor) in zip(nomes, sobrenomes, idades, alturas, humores): #zip: ajuda mtt para iterações\n",
    "    pessoas.append((Pessoa(nome, sobrenome, idade, altura, humor)))\n",
    "\n",
    "pessoas"
   ]
  },
  {
   "cell_type": "code",
   "execution_count": 92,
   "metadata": {},
   "outputs": [
    {
     "name": "stdout",
     "output_type": "stream",
     "text": [
      "A Pessoa Arthur tem 21 anos, 1.86m e está Feliz \n",
      "A Pessoa Gabriel tem 20 anos, 1.8m e está Neutro \n",
      "A Pessoa Maria tem 20 anos, 1.7m e está Triste \n",
      "A Pessoa Thiago tem 23 anos, 1.82m e está Neutro \n"
     ]
    }
   ],
   "source": [
    "#Mostrando as pessoas criadas\n",
    "for pessoa in pessoas:\n",
    "    pessoa.apresentar()"
   ]
  },
  {
   "cell_type": "markdown",
   "metadata": {},
   "source": [
    "Buscando informações dos objetos"
   ]
  },
  {
   "cell_type": "code",
   "execution_count": 93,
   "metadata": {},
   "outputs": [
    {
     "data": {
      "text/plain": [
       "[('Arthur', 'Chabole', 1.86, 'Feliz'),\n",
       " ('Gabriel', 'Messias', 1.8, 'Neutro'),\n",
       " ('Maria', 'Alcantara', 1.7, 'Triste'),\n",
       " ('Thiago', 'Cacique', 1.82, 'Neutro')]"
      ]
     },
     "execution_count": 93,
     "metadata": {},
     "output_type": "execute_result"
    }
   ],
   "source": [
    "info=[]\n",
    "for pessoa in pessoas:\n",
    "    info.append((pessoa.nome, pessoa.sobrenome, pessoa.altura, pessoa.humor)) #importante colocar 2x parenteses\n",
    "info"
   ]
  },
  {
   "cell_type": "markdown",
   "metadata": {},
   "source": [
    "# Conceito de herança "
   ]
  },
  {
   "cell_type": "code",
   "execution_count": 104,
   "metadata": {},
   "outputs": [],
   "source": [
    "#Herdando os atributos e métodos da classe Pessoa\n",
    "class Funcionário(Pessoa):\n",
    "    pass"
   ]
  },
  {
   "cell_type": "code",
   "execution_count": 105,
   "metadata": {},
   "outputs": [],
   "source": [
    "f1 = Funcionário('Arthur', 'Chabole', 21, 1.86, 'feliz')"
   ]
  },
  {
   "cell_type": "code",
   "execution_count": 108,
   "metadata": {},
   "outputs": [
    {
     "name": "stdout",
     "output_type": "stream",
     "text": [
      "A Pessoa Arthur tem 24 anos, 2.31m e está feliz \n"
     ]
    }
   ],
   "source": [
    "f1.humor = 'neutro'\n",
    "\n",
    "f1.aniversário()\n",
    "f1.crescer_15cm()\n",
    "\n",
    "f1.apresentar()"
   ]
  },
  {
   "cell_type": "markdown",
   "metadata": {},
   "source": [
    "Quando a classe Funcionário herda a classe Pessoa. Ganhamos de presente os atributos e métodos desenvolvida anteriormente na classe Pessoa para dentro da classe Funcionário. Assim, podemos de maneira simples reutilizar o trabalho antigo ou de outras pessoas."
   ]
  },
  {
   "cell_type": "markdown",
   "metadata": {},
   "source": [
    "## Complementando a classe Funcionário "
   ]
  },
  {
   "cell_type": "code",
   "execution_count": 85,
   "metadata": {},
   "outputs": [],
   "source": [
    "#Acrescentando um construtor & novos métodos\n",
    "class Funcionário(Pessoa):\n",
    "    \n",
    "    #Variáveis da classe Funcionário\n",
    "    cont_func = 0        #Contador de funcionário\n",
    "    Taxa_aumento = 1.05  #Taxa de aumento\n",
    "    \n",
    "    #Defininido atributos default\n",
    "    def __init__(self, nome='Ninguém', sobrenome='Silva', idade=25, altura=1.78, humor=None, cargo='Autônomo', salário=1200):\n",
    "    \n",
    "        #Chamando os atributos herdados de Pessoa\n",
    "        super().__init__(nome, sobrenome, idade, altura, humor) \n",
    "\n",
    "        #Acrescentando novos atributos (\"variável do objeto\")\n",
    "        self.cargo = cargo\n",
    "        self.salário = salário\n",
    "        \n",
    "        #Métodos da classe\n",
    "        Funcionário.add_Funcionário()\n",
    "        \n",
    "    #Novos métodos\n",
    "    def aumento_salárial(self):\n",
    "        self.salário = self.salário*Funcionário.Taxa_aumento\n",
    "        \n",
    "    #Estes métodos irá sobrescrever o apresentar de pessoa, pois tem o mesma assinatura (nome) \n",
    "    def apresentar(self):\n",
    "        print(f'{self.nome}, {self.cargo} salário de R${self.salário}. Taxa de aumento {round((Funcionário.Taxa_aumento-1)*100,2)}% anual')\n",
    "    \n",
    "    #Como não vamos acessar nenhuma informação do objeto não precisamos do 'self'\n",
    "    def add_Funcionário():\n",
    "        Funcionário.cont_func += 1"
   ]
  },
  {
   "cell_type": "markdown",
   "metadata": {},
   "source": [
    "Construindo o objeto default"
   ]
  },
  {
   "cell_type": "code",
   "execution_count": 86,
   "metadata": {},
   "outputs": [
    {
     "name": "stdout",
     "output_type": "stream",
     "text": [
      "Ninguém, Autônomo salário de R$1200. Taxa de aumento 5.0% anual\n"
     ]
    }
   ],
   "source": [
    "#objeto default \n",
    "f0 = Funcionário() \n",
    "\n",
    "f0.apresentar()"
   ]
  },
  {
   "cell_type": "code",
   "execution_count": 87,
   "metadata": {},
   "outputs": [],
   "source": [
    "f1 = Funcionário('Arthur', 'Chabole', 21, 1.86, 'feliz', 'engenheiro', 4_000)\n",
    "f2 = Funcionário('Rafael', 'Silveira', 35, 1.75, 'triste', 'Gerente', 6_000)"
   ]
  },
  {
   "cell_type": "code",
   "execution_count": 89,
   "metadata": {},
   "outputs": [
    {
     "name": "stdout",
     "output_type": "stream",
     "text": [
      "Arthur, engenheiro salário de R$4704.0. Taxa de aumento 12.0% anual\n"
     ]
    }
   ],
   "source": [
    "f1.aumento_salárial() #método do objeto\n",
    "\n",
    "Funcionário.Taxa_aumento = 1.12 #Atributo da classe\n",
    "#f1.Taxa_aumento = 1.12\n",
    "\n",
    "f1.apresentar() #O método apresentar() de Funcionário sobrescreve o apresentar() de Pessoa"
   ]
  },
  {
   "cell_type": "code",
   "execution_count": 37,
   "metadata": {},
   "outputs": [
    {
     "name": "stdout",
     "output_type": "stream",
     "text": [
      "Foram adicionados 3 funcionário(s) até o momento.\n"
     ]
    }
   ],
   "source": [
    "print(f'Foram adicionados {Funcionário.cont_func} funcionário(s) até o momento.')"
   ]
  },
  {
   "cell_type": "markdown",
   "metadata": {},
   "source": [
    "# Melhorando a classe Funcionário"
   ]
  },
  {
   "cell_type": "markdown",
   "metadata": {},
   "source": [
    "## Métodos especiais  @property, @classmethod e @staticmethod"
   ]
  },
  {
   "cell_type": "code",
   "execution_count": 3,
   "metadata": {},
   "outputs": [],
   "source": [
    "#Acrescentando decorators\n",
    "class Funcionário(Pessoa):\n",
    "    \n",
    "    #Variáveis da classe Funcionário\n",
    "    cont_func = 0        #Contador de funcionário\n",
    "    Taxa_aumento = 1.05  #Taxa de aumento\n",
    "    \n",
    "    def __init__(self, nome, sobrenome, idade, altura, humor, cargo, salário):\n",
    "    \n",
    "        #Chamando os atributos herdados de Pessoa\n",
    "        super().__init__(nome, sobrenome, idade, altura, humor) \n",
    "\n",
    "        #Acrescentando novos atributos (\"variável do objeto\")\n",
    "        self.cargo = cargo\n",
    "        self.salário = salário\n",
    "        \n",
    "        #Métodos da classe\n",
    "        Funcionário.add_Funcionário()\n",
    "        \n",
    "    #Novos métodos\n",
    "    def aumento_salárial(self):\n",
    "        self.salário = self.salário*Funcionário.Taxa_aumento\n",
    "        \n",
    "    #Este método irá sobrescrever o apresentar de pessoa, pois tem o mesma assinatura (nome) \n",
    "    #Métodos especiais sinalizados por decorators\n",
    "    #Chamando o método como um atributo\n",
    "    @property    \n",
    "    def apresentar(self):\n",
    "        print(f'''{self.nome}, {self.cargo} salário de R${self.salário}. Taxa de aumento {round((Funcionário.Taxa_aumento-1)*100,2)}% anual''')\n",
    "    \n",
    "    #Chamando o método como sendo da classe e não do objeto\n",
    "    @classmethod\n",
    "    def add_Funcionário(cls):\n",
    "        cls.cont_func += 1\n",
    "    \n",
    "    @classmethod\n",
    "    def classe_Info(cls):\n",
    "        print(f'Temos: {cls.cont_func} funcionário(s)')\n",
    "        print(f'Aumento salarial de {round(cls.Taxa_aumento-1, 3)}% ao ano')\n",
    "    \n",
    "    #Chamando o método independentemente do objeto\n",
    "    @staticmethod\n",
    "    def dia_Util(dia):\n",
    "        semana = {'Domingo': False, 'Segunda': True, 'Terça': True, \n",
    "                  'Quarta': True, 'Quinta': True, 'Sexta': True, 'Sábado': False} #Dicionário\n",
    "        \n",
    "        Resultado = semana.get(dia)\n",
    "        return Resultado\n",
    "    "
   ]
  },
  {
   "cell_type": "markdown",
   "metadata": {},
   "source": [
    "## Métodos com decorator @Property"
   ]
  },
  {
   "cell_type": "markdown",
   "metadata": {},
   "source": [
    "São métodos para serem chamados como com atributo. Sem a necessidade de utilizar '()'"
   ]
  },
  {
   "cell_type": "code",
   "execution_count": 19,
   "metadata": {},
   "outputs": [],
   "source": [
    "f1 = Funcionário('Arthur', 'Chabole', 21, 1.86, 'feliz', 'engenheiro', 5_000)\n",
    "f2 = Funcionário('Rafael', 'Silveira', 35, 1.75, 'triste', 'Gerente', 7_000)"
   ]
  },
  {
   "cell_type": "code",
   "execution_count": 20,
   "metadata": {},
   "outputs": [
    {
     "name": "stdout",
     "output_type": "stream",
     "text": [
      "Arthur, engenheiro salário de R$5000. Taxa de aumento 0.05% anual\n"
     ]
    }
   ],
   "source": [
    "f1.apresentar #Método chamado como um atributo"
   ]
  },
  {
   "cell_type": "markdown",
   "metadata": {},
   "source": [
    "## Métodos com decorator @classmethod"
   ]
  },
  {
   "cell_type": "markdown",
   "metadata": {},
   "source": [
    "São métodos reservados para serem usados pela classe. Suas modificações alteram para todos os objetos da classe."
   ]
  },
  {
   "cell_type": "code",
   "execution_count": 21,
   "metadata": {},
   "outputs": [
    {
     "name": "stdout",
     "output_type": "stream",
     "text": [
      "Temos: 2 funcionário(s)\n",
      "Aumento salarial de 0.05% ao ano\n"
     ]
    }
   ],
   "source": [
    "Funcionário.classe_Info()"
   ]
  },
  {
   "cell_type": "markdown",
   "metadata": {},
   "source": [
    "Podem ser utizadas com os objetos, mas as informações são as mesmas para todos os objetos."
   ]
  },
  {
   "cell_type": "code",
   "execution_count": 24,
   "metadata": {},
   "outputs": [
    {
     "name": "stdout",
     "output_type": "stream",
     "text": [
      "Temos: 2 funcionário(s)\n",
      "Aumento salarial de 0.05% ao ano\n",
      "None\n",
      "----------------\n",
      "Temos: 2 funcionário(s)\n",
      "Aumento salarial de 0.05% ao ano\n",
      "None\n"
     ]
    }
   ],
   "source": [
    "print(f1.classe_Info())\n",
    "print('----------------')\n",
    "print(f2.classe_Info())"
   ]
  },
  {
   "cell_type": "markdown",
   "metadata": {},
   "source": [
    "## Métodos com decorator @staticmethod"
   ]
  },
  {
   "cell_type": "markdown",
   "metadata": {},
   "source": [
    "São métodos independentes do objeto. Usados quando não se alteram nenhum atríbuto da classe ou do objeto, mas podem ser úteis durante a aplicações ou implementações da classe."
   ]
  },
  {
   "cell_type": "code",
   "execution_count": 41,
   "metadata": {},
   "outputs": [
    {
     "data": {
      "text/plain": [
       "True"
      ]
     },
     "execution_count": 41,
     "metadata": {},
     "output_type": "execute_result"
    }
   ],
   "source": [
    "Funcionário.dia_Util('Segunda')"
   ]
  },
  {
   "cell_type": "code",
   "execution_count": 25,
   "metadata": {},
   "outputs": [
    {
     "data": {
      "text/plain": [
       "False"
      ]
     },
     "execution_count": 25,
     "metadata": {},
     "output_type": "execute_result"
    }
   ],
   "source": [
    "Funcionário.dia_Util('Domingo')"
   ]
  },
  {
   "cell_type": "markdown",
   "metadata": {},
   "source": [
    "# Mais um pouco de herança e comunição entre as classes"
   ]
  },
  {
   "cell_type": "markdown",
   "metadata": {},
   "source": [
    "Vamos implementar o seguinte diagrama abaixo onde já temos a classe Pessoa e Funcionário. As classes Vendedores e Gerentes que herdam atributos e métodos da classe Funcionário que por sua vez herdam da classe Pessoa (herança de 2 geração) e Cliente herda somente a classe Pessoa. O simbolo '~' esta sendo usado como conotação para uma variável da classe."
   ]
  },
  {
   "attachments": {
    "Diagrama%20de%20classes%20exemplo.jpg": {
     "image/jpeg": "[encoded data removed]"
    }
   },
   "cell_type": "markdown",
   "metadata": {},
   "source": [
    "![Diagrama%20de%20classes%20exemplo.jpg](attachment:Diagrama%20de%20classes%20exemplo.jpg)"
   ]
  },
  {
   "cell_type": "markdown",
   "metadata": {},
   "source": [
    "Classe Cliente\n"
   ]
  },
  {
   "cell_type": "code",
   "execution_count": 121,
   "metadata": {},
   "outputs": [],
   "source": [
    "class Cliente(Pessoa):\n",
    "    def __init__(self,  nome, sobrenome, idade, altura, humor, qtd_Compras, quem_vendeu):\n",
    "        super().__init__(nome, sobrenome, idade, altura, humor)\n",
    "        self.qtd_Compras = qtd_Compras\n",
    "        self.quem_vendeu = quem_vendeu\n",
    "    \n",
    "    def comprar(self, Funcionário): #Comunicação entre a classe Cliente e Vendedor\n",
    "        self.quem_vendeu = Funcionário\n",
    "        self.qtd_Compras += 1\n",
    "        \n",
    "    def apresentar(self):\n",
    "        print(f'{self.nome}, cliente comprou {self.qtd_Compras} produtos vendidos por {self.quem_vendeu.nome}')"
   ]
  },
  {
   "cell_type": "markdown",
   "metadata": {},
   "source": [
    "Classe vendedor"
   ]
  },
  {
   "cell_type": "code",
   "execution_count": 122,
   "metadata": {},
   "outputs": [],
   "source": [
    "class Vendedor(Funcionário):\n",
    "    def __init__(self,  nome, sobrenome, idade, altura, humor, cargo, salário,  qtd_Vendas, meta):\n",
    "        \n",
    "        super().__init__(nome, sobrenome, idade, altura, humor, cargo, salário)\n",
    "        \n",
    "        self.cargo = 'vendedor'\n",
    "        self.qtd_Vendas = qtd_Vendas\n",
    "        self.meta = meta\n",
    "        \n",
    "    def vender_Produto(self, num_prod):\n",
    "        self.qtd_Vendas += num_prod\n",
    "        \n",
    "    def apresentar(self):\n",
    "        if self.qtd_Vendas >= self.meta:\n",
    "             print(f'{self.nome}, {self.cargo} vendeu {self.qtd_Vendas} produtos e bateu a meta!!!')\n",
    "        else:\n",
    "             print(f'{self.nome}, {self.cargo} vendeu {self.qtd_Vendas} produtos e não bateu a meta')\n",
    "            "
   ]
  },
  {
   "cell_type": "markdown",
   "metadata": {},
   "source": [
    "Classe Gerente"
   ]
  },
  {
   "cell_type": "code",
   "execution_count": 160,
   "metadata": {},
   "outputs": [],
   "source": [
    "class Gerente(Funcionário):\n",
    "    def __init__(self,  nome, sobrenome, idade, altura, humor, cargo, salário, subordinados):\n",
    "        super().__init__(nome, sobrenome, idade, altura, humor, cargo, salário)\n",
    "        self.cargo = 'gerente'\n",
    "        self.subordinados = subordinados\n",
    "    \n",
    "    def contratar(self, Funcionário):\n",
    "        self.subordinados.append(Funcionário)\n",
    "        \n",
    "    def demitir(self, Funcionário): #Comunicação entre a classe gerente e funcionário\n",
    "        self.subordinados.remove(Funcionário)\n",
    "        \n",
    "    def apresentar(self):\n",
    "        print(f'{self.nome}, {self.cargo} com salário de R${self.salário} ')\n",
    "        \n",
    "        print('----------------------------------')\n",
    "        print('----- Lista de subordinados ------')\n",
    "        print('----------------------------------')\n",
    "        \n",
    "        for subordinado in self.subordinados: \n",
    "            subordinado.apresentar()"
   ]
  },
  {
   "cell_type": "markdown",
   "metadata": {},
   "source": [
    "## Criando e utilizando os objetos "
   ]
  },
  {
   "cell_type": "code",
   "execution_count": 163,
   "metadata": {},
   "outputs": [],
   "source": [
    "#Instanciando os objetos\n",
    "#Vendedores\n",
    "v1 = Vendedor('Gabriel', 'Messias', 20, 1.8, 'Neutro', 'Vendedor', 4000, 18, 25)\n",
    "v2 = Vendedor('Maria', 'Alcantara', 20, 1.7, 'Triste', 'Vendedor', 4000, 26, 25)\n",
    "v3 = Vendedor('Rafael', 'Silva', 22, 1.78, 'Feliz', 'Vendedor', 4000, 14, 25)\n",
    "v4 = Vendedor('Guilherme', 'Modesto', 24, 1.65, 'Triste', 'Vendedor', 4000, 28, 25)\n",
    "\n",
    "#Cliente\n",
    "c1 = Cliente('Thiago', 'Cacique', 24, 1.82, 'Neutro', 5, v1)\n",
    "\n",
    "#Gerente\n",
    "g1 = Gerente('Arthur', 'Chabole', 21, 1.86,'Feliz', 'Gerente', 5000, [v1, v2])"
   ]
  },
  {
   "cell_type": "markdown",
   "metadata": {},
   "source": [
    "Apresentando os objetos criados. Cada classe tem seu método apresentar próprio."
   ]
  },
  {
   "cell_type": "code",
   "execution_count": 164,
   "metadata": {},
   "outputs": [
    {
     "name": "stdout",
     "output_type": "stream",
     "text": [
      "Gabriel, vendedor vendeu 18 produtos e não bateu a meta\n",
      "Maria, vendedor vendeu 26 produtos e bateu a meta!!!\n",
      "Rafael, vendedor vendeu 14 produtos e não bateu a meta\n",
      "Guilherme, vendedor vendeu 28 produtos e bateu a meta!!!\n"
     ]
    }
   ],
   "source": [
    "#Vendedores\n",
    "v1.apresentar()\n",
    "v2.apresentar()\n",
    "v3.apresentar()\n",
    "v4.apresentar()"
   ]
  },
  {
   "cell_type": "code",
   "execution_count": 165,
   "metadata": {},
   "outputs": [
    {
     "name": "stdout",
     "output_type": "stream",
     "text": [
      "Thiago, cliente comprou 5 produtos vendidos por Gabriel\n"
     ]
    }
   ],
   "source": [
    "#Cliente\n",
    "c1.apresentar()"
   ]
  },
  {
   "cell_type": "code",
   "execution_count": 166,
   "metadata": {},
   "outputs": [
    {
     "name": "stdout",
     "output_type": "stream",
     "text": [
      "Arthur, gerente com salário de R$5000 \n",
      "----------------------------------\n",
      "----- Lista de subordinados ------\n",
      "----------------------------------\n",
      "Gabriel, vendedor vendeu 18 produtos e não bateu a meta\n",
      "Maria, vendedor vendeu 26 produtos e bateu a meta!!!\n"
     ]
    }
   ],
   "source": [
    "#Gerente\n",
    "g1.apresentar()"
   ]
  },
  {
   "cell_type": "markdown",
   "metadata": {},
   "source": [
    "## Explorando herança e modificando os objetos"
   ]
  },
  {
   "cell_type": "markdown",
   "metadata": {},
   "source": [
    "#### Cliente herda os atributos e métodos da classe Pessoa"
   ]
  },
  {
   "cell_type": "code",
   "execution_count": 178,
   "metadata": {},
   "outputs": [
    {
     "data": {
      "text/plain": [
       "25"
      ]
     },
     "execution_count": 178,
     "metadata": {},
     "output_type": "execute_result"
    }
   ],
   "source": [
    "c1.idade"
   ]
  },
  {
   "cell_type": "code",
   "execution_count": 168,
   "metadata": {},
   "outputs": [
    {
     "name": "stdout",
     "output_type": "stream",
     "text": [
      "Thiago, cliente comprou 5 produtos vendidos por Gabriel\n",
      "Idade 25 anos\n",
      "Thiago, cliente comprou 6 produtos vendidos por Maria\n"
     ]
    }
   ],
   "source": [
    "c1.aniversário()\n",
    "c1.apresentar()\n",
    "\n",
    "c1.comprar(v2)\n",
    "\n",
    "print(f'Idade {c1.idade} anos')\n",
    "c1.apresentar()"
   ]
  },
  {
   "cell_type": "markdown",
   "metadata": {},
   "source": [
    "#### Vendedor herda os atributos e métodos da classe Funcionário e Funcionário herda da classe Pessoa. "
   ]
  },
  {
   "cell_type": "code",
   "execution_count": 169,
   "metadata": {},
   "outputs": [
    {
     "data": {
      "text/plain": [
       "(20, 4000)"
      ]
     },
     "execution_count": 169,
     "metadata": {},
     "output_type": "execute_result"
    }
   ],
   "source": [
    "v1.idade, v1.salário"
   ]
  },
  {
   "cell_type": "code",
   "execution_count": 170,
   "metadata": {},
   "outputs": [
    {
     "name": "stdout",
     "output_type": "stream",
     "text": [
      "Gabriel 21 anos com e-mail Gabriel.Messias@unesp.br e salário R$4200.0\n",
      "Gabriel, vendedor vendeu 18 produtos e não bateu a meta\n"
     ]
    }
   ],
   "source": [
    "v1.aniversário()\n",
    "v1.criar_Email()\n",
    "v1.aumento_salárial()\n",
    "\n",
    "print(f'{v1.nome} {v1.idade} anos com e-mail {v1.email} e salário R${v1.salário}')\n",
    "v1.apresentar()"
   ]
  },
  {
   "cell_type": "code",
   "execution_count": 171,
   "metadata": {},
   "outputs": [
    {
     "name": "stdout",
     "output_type": "stream",
     "text": [
      "Gabriel, vendedor vendeu 48 produtos e bateu a meta!!!\n"
     ]
    }
   ],
   "source": [
    "v1.vender_Produto(30)\n",
    "v1.apresentar()"
   ]
  },
  {
   "cell_type": "markdown",
   "metadata": {},
   "source": [
    "#### Gerente herda os atributos e métodos da classe Funcionário e Funcionário herda da classe Pessoa. "
   ]
  },
  {
   "cell_type": "code",
   "execution_count": 172,
   "metadata": {},
   "outputs": [
    {
     "data": {
      "text/plain": [
       "21"
      ]
     },
     "execution_count": 172,
     "metadata": {},
     "output_type": "execute_result"
    }
   ],
   "source": [
    "g1.idade"
   ]
  },
  {
   "cell_type": "code",
   "execution_count": 173,
   "metadata": {},
   "outputs": [
    {
     "name": "stdout",
     "output_type": "stream",
     "text": [
      "Idade 22 e Arthur.Chabole@unesp.br\n"
     ]
    }
   ],
   "source": [
    "g1.aniversário()\n",
    "g1.criar_Email()\n",
    "\n",
    "print(f'Idade {g1.idade} e {g1.email}')"
   ]
  },
  {
   "cell_type": "code",
   "execution_count": 174,
   "metadata": {},
   "outputs": [
    {
     "name": "stdout",
     "output_type": "stream",
     "text": [
      "Arthur, gerente com salário de R$5000 \n",
      "----------------------------------\n",
      "----- Lista de subordinados ------\n",
      "----------------------------------\n",
      "Gabriel, vendedor vendeu 48 produtos e bateu a meta!!!\n",
      "Maria, vendedor vendeu 26 produtos e bateu a meta!!!\n"
     ]
    }
   ],
   "source": [
    "g1.apresentar()"
   ]
  },
  {
   "cell_type": "code",
   "execution_count": 175,
   "metadata": {},
   "outputs": [
    {
     "name": "stdout",
     "output_type": "stream",
     "text": [
      "Arthur, gerente com salário de R$5000 \n",
      "----------------------------------\n",
      "----- Lista de subordinados ------\n",
      "----------------------------------\n",
      "Gabriel, vendedor vendeu 48 produtos e bateu a meta!!!\n",
      "Maria, vendedor vendeu 26 produtos e bateu a meta!!!\n",
      "Rafael, vendedor vendeu 14 produtos e não bateu a meta\n"
     ]
    }
   ],
   "source": [
    "g1.contratar(v3)\n",
    "\n",
    "g1.apresentar()"
   ]
  },
  {
   "cell_type": "code",
   "execution_count": 176,
   "metadata": {},
   "outputs": [
    {
     "name": "stdout",
     "output_type": "stream",
     "text": [
      "Arthur, gerente com salário de R$5000 \n",
      "----------------------------------\n",
      "----- Lista de subordinados ------\n",
      "----------------------------------\n",
      "Gabriel, vendedor vendeu 48 produtos e bateu a meta!!!\n",
      "Maria, vendedor vendeu 26 produtos e bateu a meta!!!\n",
      "Rafael, vendedor vendeu 14 produtos e não bateu a meta\n",
      "Guilherme, vendedor vendeu 28 produtos e bateu a meta!!!\n"
     ]
    }
   ],
   "source": [
    "g1.contratar(v4)\n",
    "\n",
    "g1.apresentar()"
   ]
  },
  {
   "cell_type": "code",
   "execution_count": 177,
   "metadata": {},
   "outputs": [
    {
     "name": "stdout",
     "output_type": "stream",
     "text": [
      "Arthur, gerente com salário de R$5000 \n",
      "----------------------------------\n",
      "----- Lista de subordinados ------\n",
      "----------------------------------\n",
      "Gabriel, vendedor vendeu 48 produtos e bateu a meta!!!\n",
      "Maria, vendedor vendeu 26 produtos e bateu a meta!!!\n",
      "Rafael, vendedor vendeu 14 produtos e não bateu a meta\n"
     ]
    }
   ],
   "source": [
    "g1.demitir(v4)\n",
    "\n",
    "g1.apresentar()"
   ]
  }
 ],
 "metadata": {
  "kernelspec": {
   "display_name": "Python 3",
   "language": "python",
   "name": "python3"
  },
  "language_info": {
   "codemirror_mode": {
    "name": "ipython",
    "version": 3
   },
   "file_extension": ".py",
   "mimetype": "text/x-python",
   "name": "python",
   "nbconvert_exporter": "python",
   "pygments_lexer": "ipython3",
   "version": "3.8.5"
  }
 },
 "nbformat": 4,
 "nbformat_minor": 4
}
