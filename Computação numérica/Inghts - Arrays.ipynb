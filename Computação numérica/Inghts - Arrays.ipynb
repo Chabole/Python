{
 "cells": [
  {
   "cell_type": "code",
   "execution_count": null,
   "metadata": {},
   "outputs": [],
   "source": [
    "#Referência & documentação\n",
    "'https://numpy.org/doc/stable/reference/generated/numpy.array.html'"
   ]
  },
  {
   "cell_type": "code",
   "execution_count": 2,
   "metadata": {},
   "outputs": [],
   "source": [
    "import numpy as np\n",
    "from random import random"
   ]
  },
  {
   "cell_type": "markdown",
   "metadata": {},
   "source": [
    "## Criando e acessando uma uma Array"
   ]
  },
  {
   "cell_type": "code",
   "execution_count": 3,
   "metadata": {},
   "outputs": [
    {
     "data": {
      "text/plain": [
       "6"
      ]
     },
     "execution_count": 3,
     "metadata": {},
     "output_type": "execute_result"
    }
   ],
   "source": [
    "#Array 1-Dimensão\n",
    "array = np.array([2,1,6,5])\n",
    "\n",
    "array[2]"
   ]
  },
  {
   "cell_type": "code",
   "execution_count": 4,
   "metadata": {},
   "outputs": [
    {
     "data": {
      "text/plain": [
       "array([0., 0., 0., 0., 0.])"
      ]
     },
     "execution_count": 4,
     "metadata": {},
     "output_type": "execute_result"
    }
   ],
   "source": [
    "#Array 1-Dimensão cheio de zeros\n",
    "arr = np.zeros(5)\n",
    "arr"
   ]
  },
  {
   "cell_type": "code",
   "execution_count": 5,
   "metadata": {},
   "outputs": [
    {
     "name": "stdout",
     "output_type": "stream",
     "text": [
      "array([[0., 0., 0., 0., 0.],\n",
      "       [0., 0., 0., 0., 0.],\n",
      "       [0., 0., 0., 0., 0.],\n",
      "       [0., 0., 0., 0., 0.],\n",
      "       [0., 0., 0., 0., 0.]])\n",
      "\n",
      "array([[1., 1., 1., 1., 1.],\n",
      "       [1., 1., 1., 1., 1.],\n",
      "       [1., 1., 1., 1., 1.],\n",
      "       [1., 1., 1., 1., 1.],\n",
      "       [1., 1., 1., 1., 1.]])\n",
      "\n",
      "array([[2.87, 2.87, 2.87, 2.87, 2.87],\n",
      "       [2.87, 2.87, 2.87, 2.87, 2.87],\n",
      "       [2.87, 2.87, 2.87, 2.87, 2.87],\n",
      "       [2.87, 2.87, 2.87, 2.87, 2.87],\n",
      "       [2.87, 2.87, 2.87, 2.87, 2.87]])\n"
     ]
    },
    {
     "data": {
      "text/plain": [
       "array([[0.84464887, 0.84464887, 0.84464887, 0.84464887, 0.84464887],\n",
       "       [0.84464887, 0.84464887, 0.84464887, 0.84464887, 0.84464887],\n",
       "       [0.84464887, 0.84464887, 0.84464887, 0.84464887, 0.84464887],\n",
       "       [0.84464887, 0.84464887, 0.84464887, 0.84464887, 0.84464887],\n",
       "       [0.84464887, 0.84464887, 0.84464887, 0.84464887, 0.84464887]])"
      ]
     },
     "execution_count": 5,
     "metadata": {},
     "output_type": "execute_result"
    }
   ],
   "source": [
    "#Array 5 linhas x 5 colunas cheio de zeros\n",
    "zeros_mult = np.zeros((5,5))\n",
    "print(zeros_mult.__repr__())\n",
    "print('')\n",
    "\n",
    "#Array cheio de 1's\n",
    "ones_mult = np.ones((5,5))\n",
    "print(ones_mult.__repr__())\n",
    "print('')\n",
    "\n",
    "#Array cheia de qualquer número\n",
    "zeros_mult = np.full((5,5), 2.87)\n",
    "print(zeros_mult.__repr__())\n",
    "\n",
    "#Copiando uma array _like()\n",
    "copy_mult = np.full_like(zeros_mult, random())\n",
    "copy_mult"
   ]
  },
  {
   "cell_type": "code",
   "execution_count": 8,
   "metadata": {},
   "outputs": [
    {
     "data": {
      "text/plain": [
       "(array([0.55, 1.25, 0.82]), array([0.55, 1.  , 0.82, 2.  ]), 1.85)"
      ]
     },
     "execution_count": 8,
     "metadata": {},
     "output_type": "execute_result"
    }
   ],
   "source": [
    "#Criando uma Array 4 linhas x 3 colunas\n",
    "t = np.array(([0.55, 1.25, 0.82],\n",
    "              [1, 2.25, 1.42],\n",
    "              [0.82, 3.25, 1.85],\n",
    "              [2, 3.35, 2.4]))\n",
    "\n",
    "#Linha & coluna & elemento\n",
    "t[0], t[:,0], t[2][2]"
   ]
  },
  {
   "cell_type": "code",
   "execution_count": 7,
   "metadata": {},
   "outputs": [
    {
     "name": "stdout",
     "output_type": "stream",
     "text": [
      "array([[0.+1.j, 2.+3.j, 1.+0.j],\n",
      "       [5.+2.j, 1.+3.j, 0.+2.j]])\n",
      "(2+3j)\n"
     ]
    },
    {
     "data": {
      "text/plain": [
       "array([[0.+1.j, 5.+4.j, 1.+0.j],\n",
       "       [5.+2.j, 1.+3.j, 0.+2.j]])"
      ]
     },
     "execution_count": 7,
     "metadata": {},
     "output_type": "execute_result"
    }
   ],
   "source": [
    "#Array 1-Dimensão complexo\n",
    "arr_complex = np.array([[0 + 1j, 2 + 3j, 1 + 0j], \n",
    "                        [5 + 2j, 1 + 3j, 0 + 2j]], dtype=complex)\n",
    "\n",
    "#Mostrando Array\n",
    "print(arr_complex.__repr__())\n",
    "\n",
    "#Acessando elemento linha 0, coluna 1\n",
    "print(arr_complex[0][1])\n",
    "\n",
    "#Substituindo elemento\n",
    "arr_complex[0,1] = 5 + 4j\n",
    "arr_complex"
   ]
  },
  {
   "cell_type": "markdown",
   "metadata": {},
   "source": [
    "## Manipulando uma Array"
   ]
  },
  {
   "cell_type": "markdown",
   "metadata": {},
   "source": [
    "### Mostrando 2 modos diferença de calcular uma função "
   ]
  },
  {
   "cell_type": "markdown",
   "metadata": {},
   "source": [
    "$$f(x) = x^2$$"
   ]
  },
  {
   "cell_type": "code",
   "execution_count": 48,
   "metadata": {},
   "outputs": [
    {
     "name": "stdout",
     "output_type": "stream",
     "text": [
      "Wall time: 0 ns\n"
     ]
    },
    {
     "data": {
      "text/plain": [
       "array([  0.,   1.,   4.,   9.,  16.,  25.,  36.,  49.,  64.,  81., 100.])"
      ]
     },
     "execution_count": 48,
     "metadata": {},
     "output_type": "execute_result"
    }
   ],
   "source": [
    "%%time\n",
    "#Caso 1 - +Fácil de entender/ler (alto reability), as custo de tempo de processamento\n",
    "\n",
    "#Domínio\n",
    "x = np.linspace(0, 10, 11)\n",
    "\n",
    "#Declarar a array\n",
    "uni_arr = np.empty(11)\n",
    "\n",
    "#Calculando\n",
    "uni_arr = x**2\n",
    "\n",
    "uni_arr"
   ]
  },
  {
   "cell_type": "code",
   "execution_count": 49,
   "metadata": {},
   "outputs": [
    {
     "name": "stdout",
     "output_type": "stream",
     "text": [
      "Wall time: 0 ns\n"
     ]
    },
    {
     "data": {
      "text/plain": [
       "array([  0.,   1.,   4.,   9.,  16.,  25.,  36.,  49.,  64.,  81., 100.])"
      ]
     },
     "execution_count": 49,
     "metadata": {},
     "output_type": "execute_result"
    }
   ],
   "source": [
    "%%time\n",
    "#Caso 2 - Visando performnace computacional, as custas de baixo 'reability'\n",
    "x = np.linspace(0, 10, 11)\n",
    "uni_arr = np.empty(11)\n",
    "\n",
    "#Iterando para cada elemento\n",
    "for index in range(len(uni_arr)):\n",
    "    uni_arr[index] = x[index]**2\n",
    "    \n",
    "uni_arr"
   ]
  },
  {
   "cell_type": "code",
   "execution_count": 20,
   "metadata": {},
   "outputs": [
    {
     "name": "stdout",
     "output_type": "stream",
     "text": [
      "1.25 --- 0.82 --- 0 \n",
      "2.25 --- 1.42 --- 1 \n",
      "3.25 --- 1.85 --- 2 \n"
     ]
    }
   ],
   "source": [
    "#Criando uma Array 4 linhas x 3 colunas\n",
    "Array = np.array(([0.55, 1.25, 0.82],\n",
    "              [1, 2.25, 1.42],\n",
    "              [0.82, 3.25, 1.85]))\n",
    "\n",
    "for index, linha in enumerate(Array):\n",
    "    print(f'{linha[1]} --- {linha[2]:.2f} --- {index} ')"
   ]
  },
  {
   "cell_type": "code",
   "execution_count": 21,
   "metadata": {},
   "outputs": [
    {
     "data": {
      "text/plain": [
       "array([[0.08051817, 0.08051817, 0.08051817],\n",
       "       [0.33602715, 0.33602715, 0.33602715],\n",
       "       [0.41282191, 0.41282191, 0.41282191]])"
      ]
     },
     "execution_count": 21,
     "metadata": {},
     "output_type": "execute_result"
    }
   ],
   "source": [
    "#Substituindo todas as linhas\n",
    "for index in range(len(Array)):\n",
    "    Array[index] = random()\n",
    "Array"
   ]
  },
  {
   "cell_type": "code",
   "execution_count": 22,
   "metadata": {},
   "outputs": [
    {
     "data": {
      "text/plain": [
       "array([[0.56362597, 0.9555362 , 0.24127862],\n",
       "       [0.56362597, 0.9555362 , 0.24127862],\n",
       "       [0.56362597, 0.9555362 , 0.24127862]])"
      ]
     },
     "execution_count": 22,
     "metadata": {},
     "output_type": "execute_result"
    }
   ],
   "source": [
    "#Substituindo todas as colunas\n",
    "for index in range(len(Array)):\n",
    "    Array[:,index] = random()\n",
    "Array"
   ]
  },
  {
   "cell_type": "code",
   "execution_count": 23,
   "metadata": {},
   "outputs": [
    {
     "data": {
      "text/plain": [
       "array([[0.46662373, 0.58780533, 0.03625618],\n",
       "       [0.93336284, 0.02051389, 0.41544409],\n",
       "       [0.34135534, 0.52214854, 0.30228737]])"
      ]
     },
     "execution_count": 23,
     "metadata": {},
     "output_type": "execute_result"
    }
   ],
   "source": [
    "#Substituindo elemento por elemento\n",
    "for i in range(len(Array)):\n",
    "    for j in range(len(Array)):\n",
    "        Array[i][j] = random()\n",
    "Array"
   ]
  },
  {
   "cell_type": "code",
   "execution_count": 13,
   "metadata": {},
   "outputs": [],
   "source": [
    "import numpy as np\n",
    "Eq_1 = np.array([[-0.57, 1],\n",
    "                 [-9.92, 1]])\n",
    "\n",
    "Eq_2 = np.array([-(0.57**2), -(0.92**2)])"
   ]
  },
  {
   "cell_type": "code",
   "execution_count": 14,
   "metadata": {},
   "outputs": [
    {
     "data": {
      "text/plain": [
       "array([ 0.0557754 , -0.29310802])"
      ]
     },
     "execution_count": 14,
     "metadata": {},
     "output_type": "execute_result"
    }
   ],
   "source": [
    "np.linalg.solve(Eq_1, Eq_2)"
   ]
  },
  {
   "cell_type": "code",
   "execution_count": null,
   "metadata": {},
   "outputs": [],
   "source": []
  }
 ],
 "metadata": {
  "kernelspec": {
   "display_name": "Python 3",
   "language": "python",
   "name": "python3"
  },
  "language_info": {
   "codemirror_mode": {
    "name": "ipython",
    "version": 3
   },
   "file_extension": ".py",
   "mimetype": "text/x-python",
   "name": "python",
   "nbconvert_exporter": "python",
   "pygments_lexer": "ipython3",
   "version": "3.8.5"
  }
 },
 "nbformat": 4,
 "nbformat_minor": 4
}
