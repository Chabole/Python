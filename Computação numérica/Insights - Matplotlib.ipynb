{
 "cells": [
  {
   "cell_type": "code",
   "execution_count": null,
   "metadata": {
    "slideshow": {
     "slide_type": "notes"
    }
   },
   "outputs": [],
   "source": [
    "!pip install jupyter-tabnine --user\n",
    "!jupyter nbextension install --py jupyter_tabnine --user\n",
    "!jupyter nbextension enable --py jupyter_tabnine --user\n",
    "!jupyter serverextension enable --py jupyter_tabnine --user"
   ]
  },
  {
   "cell_type": "code",
   "execution_count": null,
   "metadata": {},
   "outputs": [],
   "source": [
    "!jupyter nbextension enable jupyter_tabnine --user --py"
   ]
  },
  {
   "cell_type": "code",
   "execution_count": 16,
   "metadata": {},
   "outputs": [],
   "source": [
    "import numpy as np\n",
    "import matplotlib.pyplot as plt\n",
    "from matplotlib.animation import FuncAnimation\n",
    "import ZebraLib.zebralib.zebraperformance as zp"
   ]
  },
  {
   "cell_type": "code",
   "execution_count": 21,
   "metadata": {},
   "outputs": [
    {
     "data": {
      "image/png": "[encoded data removed]",
      "text/plain": [
       "<Figure size 432x288 with 1 Axes>"
      ]
     },
     "metadata": {
      "needs_background": "light"
     },
     "output_type": "display_data"
    }
   ],
   "source": [
    "def f(x, m, s):\n",
    "    return (1/(np.sqrt(2*np.pi)*s))*np.exp(-0.5*((x-m)/s)**2)\n",
    "\n",
    "m= 0; s_start= 2; s_stop= 0.2\n",
    "s_values= np.linspace(s_start, s_stop, 30)\n",
    "x= np.linspace(-3*s_start, 3*s_start, 1000)\n",
    "max_f= f(m, m, s_stop)\n",
    "\n",
    "plt.axis([x[0], x[-1], 0, max_f])\n",
    "plt.xlabel('x')\n",
    "plt.ylabel('y')\n",
    "\n",
    "y= f(x, m, s_start)\n",
    "lines = plt.plot(x, y)\n",
    "\n",
    "def next_frame(s):\n",
    "    y= f(x, m, s)\n",
    "    lines[0].set_ydata(y)\n",
    "    return lines\n",
    "\n",
    "ani = FuncAnimation(plt.gcf(), next_frame, frames=s_values, interval=60)\n",
    "#ani.save('movie.mp4', fps=20)\n",
    "plt.show()\n"
   ]
  },
  {
   "cell_type": "code",
   "execution_count": null,
   "metadata": {},
   "outputs": [],
   "source": [
    "#Error Handling\n",
    "a = np.array([1, 2, 3, 4, 5, 6])\n",
    "try:\n",
    "    print(b)\n",
    "except NameError:\n",
    "    print('Isso é um erro de NameError')\n",
    "except IndexError:\n",
    "    print('Isso é um erro de indexError')\n",
    "except ValueError:\n",
    "    print('Isso é um erro de ValueError')"
   ]
  }
 ],
 "metadata": {
  "kernelspec": {
   "display_name": "Python 3",
   "language": "python",
   "name": "python3"
  },
  "language_info": {
   "codemirror_mode": {
    "name": "ipython",
    "version": 3
   },
   "file_extension": ".py",
   "mimetype": "text/x-python",
   "name": "python",
   "nbconvert_exporter": "python",
   "pygments_lexer": "ipython3",
   "version": "3.8.5"
  }
 },
 "nbformat": 4,
 "nbformat_minor": 4
}
